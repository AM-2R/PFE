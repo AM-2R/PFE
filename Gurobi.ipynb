{
 "cells": [
  {
   "cell_type": "code",
   "execution_count": 92,
   "metadata": {},
   "outputs": [],
   "source": [
    "# Import of the pyomo module\n",
    "from pyomo.environ import *\n",
    " \n",
    "# Creation of a Concrete Model\n",
    "model = ConcreteModel()"
   ]
  },
  {
   "cell_type": "code",
   "execution_count": 93,
   "metadata": {},
   "outputs": [],
   "source": [
    "model.C = Set(initialize=range(7), doc='les Conducteur')\n",
    "model.J = Set(initialize=range(8), doc='les jobs')\n",
    "model.A = Set(initialize=range(25), doc='les arcs')"
   ]
  },
  {
   "cell_type": "code",
   "execution_count": 94,
   "metadata": {},
   "outputs": [],
   "source": [
    "model.n = Param(initialize=8, doc='le nombre de jobs')\n",
    "model.c = Param(initialize=6, doc='le nombre de conducteur')\n",
    "model.m = Param(initialize=25, doc='les relations entre les arcs')\n",
    "model.ex1 = Param(model.A,initialize=[0,0,0,0,0,1,1,1,1,1,1,2,2,2,2,2,3,3,3,4,4,4,5,5,6], doc='extrémité 1')\n",
    "model.ex2 = Param(model.A,initialize=[2,3,5,6,7,2,3,4,5,6,7,3,4,5,6,7,5,6,7,5,6,7,6,7,7], doc='extrémité 2')"
   ]
  },
  {
   "cell_type": "code",
   "execution_count": 95,
   "metadata": {},
   "outputs": [],
   "source": [
    "model.x = Var(model.C, model.J,domain=Binary, doc='affectation conducteur')\n",
    "model.v = Var(model.C,bounds=(0,None),domain=Integers, doc='les taches')\n",
    "model.y = Var(bounds=(0,None),domain=Integers, doc='valeur de comparaison')"
   ]
  },
  {
   "cell_type": "code",
   "execution_count": 96,
   "metadata": {},
   "outputs": [],
   "source": [
    "def Cotraint1(model,j):\n",
    "  return sum(model.x[i,j] for i in model.C) == 1\n",
    "model.C1 = Constraint(model.J, rule=Cotraint1, doc='verification daffectation')\n",
    "\n",
    "\n",
    "def Contraint2(model,i,k):\n",
    "  return ((model.x[i,model.ex1[k]]+model.x[i,model.ex2[k]])) <= 1  \n",
    "\n",
    "model.C2 = Constraint (model.C,model.J, rule=Contraint2, doc='verification de non chevauchement ')\n",
    "\n",
    "def Contraint3(model,i):\n",
    "  return sum(model.x[i,j] for j in model.J)==model.v[i]\n",
    "\n",
    "model.C3 = Constraint (model.C, rule=Contraint3, doc='une seul tache par conducteur')\n",
    "\n",
    "def Contraint4(model,i):\n",
    "  return (model.v[i]<=model.y)\n",
    "\n",
    "model.C4 = Constraint (model.C, rule=Contraint4, doc='maximiser')"
   ]
  },
  {
   "cell_type": "code",
   "execution_count": 97,
   "metadata": {},
   "outputs": [],
   "source": [
    "def objective_rule(model):\n",
    "  return model.y\n",
    "model.objective = Objective(rule=objective_rule, sense=minimize, doc='Define objective function')"
   ]
  },
  {
   "cell_type": "code",
   "execution_count": 98,
   "metadata": {},
   "outputs": [],
   "source": [
    "def pyomo_postprocess(options=None, instance=None, results=None):\n",
    "  model.x.display()"
   ]
  },
  {
   "cell_type": "code",
   "execution_count": 99,
   "metadata": {},
   "outputs": [
    {
     "name": "stdout",
     "output_type": "stream",
     "text": [
      "Set parameter Username\n",
      "Academic license - for non-commercial use only - expires 2022-07-10\n",
      "Read LP format model from file C:\\Users\\pc\\AppData\\Local\\Temp\\tmphe8a76kd.pyomo.lp\n",
      "Reading time = 0.01 seconds\n",
      "x65: 79 rows, 65 columns, 246 nonzeros\n",
      "Gurobi Optimizer version 9.5.1 build v9.5.1rc2 (win64)\n",
      "Thread count: 6 physical cores, 12 logical processors, using up to 12 threads\n",
      "Optimize a model with 79 rows, 65 columns and 246 nonzeros\n",
      "Model fingerprint: 0x9e31698c\n",
      "Variable types: 1 continuous, 64 integer (56 binary)\n",
      "Coefficient statistics:\n",
      "  Matrix range     [1e+00, 1e+00]\n",
      "  Objective range  [1e+00, 1e+00]\n",
      "  Bounds range     [1e+00, 1e+00]\n",
      "  RHS range        [1e+00, 1e+00]\n",
      "Found heuristic solution: objective 3.0000000\n",
      "Presolve removed 8 rows and 8 columns\n",
      "Presolve time: 0.00s\n",
      "Presolved: 71 rows, 57 columns, 231 nonzeros\n",
      "Variable types: 0 continuous, 57 integer (56 binary)\n",
      "\n",
      "Root relaxation: objective 1.142857e+00, 29 iterations, 0.00 seconds (0.00 work units)\n",
      "\n",
      "    Nodes    |    Current Node    |     Objective Bounds      |     Work\n",
      " Expl Unexpl |  Obj  Depth IntInf | Incumbent    BestBd   Gap | It/Node Time\n",
      "\n",
      "     0     0    1.14286    0    9    3.00000    1.14286  61.9%     -    0s\n",
      "H    0     0                       2.0000000    1.14286  42.9%     -    0s\n",
      "     0     0    1.14286    0    9    2.00000    1.14286  42.9%     -    0s\n",
      "\n",
      "Explored 1 nodes (41 simplex iterations) in 0.01 seconds (0.00 work units)\n",
      "Thread count was 12 (of 12 available processors)\n",
      "\n",
      "Solution count 2: 2 3 \n",
      "\n",
      "Optimal solution found (tolerance 1.00e-04)\n",
      "Best objective 2.000000000000e+00, best bound 2.000000000000e+00, gap 0.0000%\n",
      "# ==========================================================\n",
      "# = Solver Results                                         =\n",
      "# ==========================================================\n",
      "# ----------------------------------------------------------\n",
      "#   Problem Information\n",
      "# ----------------------------------------------------------\n",
      "Problem: \n",
      "- Name: x65\n",
      "  Lower bound: 2.0\n",
      "  Upper bound: 2.0\n",
      "  Number of objectives: 1\n",
      "  Number of constraints: 79\n",
      "  Number of variables: 65\n",
      "  Number of binary variables: 56\n",
      "  Number of integer variables: 64\n",
      "  Number of continuous variables: 1\n",
      "  Number of nonzeros: 246\n",
      "  Sense: minimize\n",
      "# ----------------------------------------------------------\n",
      "#   Solver Information\n",
      "# ----------------------------------------------------------\n",
      "Solver: \n",
      "- Status: ok\n",
      "  Return code: 0\n",
      "  Message: Model was solved to optimality (subject to tolerances), and an optimal solution is available.\n",
      "  Termination condition: optimal\n",
      "  Termination message: Model was solved to optimality (subject to tolerances), and an optimal solution is available.\n",
      "  Wall time: 0.012960433959960938\n",
      "  Error rc: 0\n",
      "  Time: 0.2492842674255371\n",
      "# ----------------------------------------------------------\n",
      "#   Solution Information\n",
      "# ----------------------------------------------------------\n",
      "Solution: \n",
      "- number of solutions: 0\n",
      "  number of solutions displayed: 0\n",
      "\n",
      "Displaying Solution\n",
      "------------------------------------------------------------\n",
      "x : affectation conducteur\n",
      "    Size=56, Index=x_index\n",
      "    Key    : Lower : Value : Upper : Fixed : Stale : Domain\n",
      "    (0, 0) :     0 :   1.0 :     1 : False : False : Binary\n",
      "    (0, 1) :     0 :   0.0 :     1 : False : False : Binary\n",
      "    (0, 2) :     0 :   0.0 :     1 : False : False : Binary\n",
      "    (0, 3) :     0 :   0.0 :     1 : False : False : Binary\n",
      "    (0, 4) :     0 :   0.0 :     1 : False : False : Binary\n",
      "    (0, 5) :     0 :   0.0 :     1 : False : False : Binary\n",
      "    (0, 6) :     0 :   0.0 :     1 : False : False : Binary\n",
      "    (0, 7) :     0 :   0.0 :     1 : False : False : Binary\n",
      "    (1, 0) :     0 :   0.0 :     1 : False : False : Binary\n",
      "    (1, 1) :     0 :   1.0 :     1 : False : False : Binary\n",
      "    (1, 2) :     0 :   0.0 :     1 : False : False : Binary\n",
      "    (1, 3) :     0 :   0.0 :     1 : False : False : Binary\n",
      "    (1, 4) :     0 :   0.0 :     1 : False : False : Binary\n",
      "    (1, 5) :     0 :   0.0 :     1 : False : False : Binary\n",
      "    (1, 6) :     0 :   0.0 :     1 : False : False : Binary\n",
      "    (1, 7) :     0 :   0.0 :     1 : False : False : Binary\n",
      "    (2, 0) :     0 :   0.0 :     1 : False : False : Binary\n",
      "    (2, 1) :     0 :   0.0 :     1 : False : False : Binary\n",
      "    (2, 2) :     0 :   0.0 :     1 : False : False : Binary\n",
      "    (2, 3) :     0 :   0.0 :     1 : False : False : Binary\n",
      "    (2, 4) :     0 :   0.0 :     1 : False : False : Binary\n",
      "    (2, 5) :     0 :   0.0 :     1 : False : False : Binary\n",
      "    (2, 6) :     0 :   1.0 :     1 : False : False : Binary\n",
      "    (2, 7) :     0 :   0.0 :     1 : False : False : Binary\n",
      "    (3, 0) :     0 :   0.0 :     1 : False : False : Binary\n",
      "    (3, 1) :     0 :   0.0 :     1 : False : False : Binary\n",
      "    (3, 2) :     0 :   0.0 :     1 : False : False : Binary\n",
      "    (3, 3) :     0 :   1.0 :     1 : False : False : Binary\n",
      "    (3, 4) :     0 :   0.0 :     1 : False : False : Binary\n",
      "    (3, 5) :     0 :   0.0 :     1 : False : False : Binary\n",
      "    (3, 6) :     0 :   0.0 :     1 : False : False : Binary\n",
      "    (3, 7) :     0 :   0.0 :     1 : False : False : Binary\n",
      "    (4, 0) :     0 :   0.0 :     1 : False : False : Binary\n",
      "    (4, 1) :     0 :   0.0 :     1 : False : False : Binary\n",
      "    (4, 2) :     0 :   0.0 :     1 : False : False : Binary\n",
      "    (4, 3) :     0 :   0.0 :     1 : False : False : Binary\n",
      "    (4, 4) :     0 :   1.0 :     1 : False : False : Binary\n",
      "    (4, 5) :     0 :   1.0 :     1 : False : False : Binary\n",
      "    (4, 6) :     0 :   0.0 :     1 : False : False : Binary\n",
      "    (4, 7) :     0 :   0.0 :     1 : False : False : Binary\n",
      "    (5, 0) :     0 :   0.0 :     1 : False : False : Binary\n",
      "    (5, 1) :     0 :   0.0 :     1 : False : False : Binary\n",
      "    (5, 2) :     0 :   0.0 :     1 : False : False : Binary\n",
      "    (5, 3) :     0 :   0.0 :     1 : False : False : Binary\n",
      "    (5, 4) :     0 :   0.0 :     1 : False : False : Binary\n",
      "    (5, 5) :     0 :   0.0 :     1 : False : False : Binary\n",
      "    (5, 6) :     0 :   0.0 :     1 : False : False : Binary\n",
      "    (5, 7) :     0 :   1.0 :     1 : False : False : Binary\n",
      "    (6, 0) :     0 :   0.0 :     1 : False : False : Binary\n",
      "    (6, 1) :     0 :   0.0 :     1 : False : False : Binary\n",
      "    (6, 2) :     0 :   1.0 :     1 : False : False : Binary\n",
      "    (6, 3) :     0 :   0.0 :     1 : False : False : Binary\n",
      "    (6, 4) :     0 :   0.0 :     1 : False : False : Binary\n",
      "    (6, 5) :     0 :   0.0 :     1 : False : False : Binary\n",
      "    (6, 6) :     0 :   0.0 :     1 : False : False : Binary\n",
      "    (6, 7) :     0 :   0.0 :     1 : False : False : Binary\n"
     ]
    }
   ],
   "source": [
    "if __name__ == '__main__':\n",
    "    # This emulates what the pyomo command-line tools does\n",
    "    from pyomo.opt import SolverFactory\n",
    "    import pyomo.environ\n",
    "    opt = SolverFactory(\"gurobi\")\n",
    "    results = opt.solve(model,tee=True)\n",
    "    #sends results to stdout\n",
    "    results.write()\n",
    "    print(\"\\nDisplaying Solution\\n\" + '-'*60)\n",
    "    pyomo_postprocess(None, model, results)"
   ]
  },
  {
   "cell_type": "code",
   "execution_count": 100,
   "metadata": {},
   "outputs": [
    {
     "name": "stdout",
     "output_type": "stream",
     "text": [
      "v : les taches\n",
      "    Size=7, Index=C\n",
      "    Key : Lower : Value : Upper : Fixed : Stale : Domain\n",
      "      0 :     0 :   1.0 :  None : False : False : Integers\n",
      "      1 :     0 :   1.0 :  None : False : False : Integers\n",
      "      2 :     0 :   1.0 :  None : False : False : Integers\n",
      "      3 :     0 :   1.0 :  None : False : False : Integers\n",
      "      4 :     0 :   2.0 :  None : False : False : Integers\n",
      "      5 :     0 :   1.0 :  None : False : False : Integers\n",
      "      6 :     0 :   1.0 :  None : False : False : Integers\n",
      "y : valeur de comparaison\n",
      "    Size=1, Index=None\n",
      "    Key  : Lower : Value : Upper : Fixed : Stale : Domain\n",
      "    None :     0 :   2.0 :  None : False : False : Integers\n"
     ]
    }
   ],
   "source": [
    "model.v.display()\n",
    "model.y.display()"
   ]
  }
 ],
 "metadata": {
  "interpreter": {
   "hash": "66ad2a0fc99eef4a3bf89b375e9b9756c86124817c17e26a015d4a0d647e591d"
  },
  "kernelspec": {
   "display_name": "Python 3.9.6 64-bit",
   "language": "python",
   "name": "python3"
  },
  "language_info": {
   "codemirror_mode": {
    "name": "ipython",
    "version": 3
   },
   "file_extension": ".py",
   "mimetype": "text/x-python",
   "name": "python",
   "nbconvert_exporter": "python",
   "pygments_lexer": "ipython3",
   "version": "3.9.6"
  },
  "orig_nbformat": 4
 },
 "nbformat": 4,
 "nbformat_minor": 2
}
