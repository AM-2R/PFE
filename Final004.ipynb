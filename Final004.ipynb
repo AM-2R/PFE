{
 "cells": [
  {
   "cell_type": "code",
   "execution_count": 52,
   "metadata": {},
   "outputs": [],
   "source": [
    "from collections import deque\n",
    "import numpy as np\n",
    "import pandas as pd\n",
    "\n",
    "import datetime as dt\n",
    "from datetime import *"
   ]
  },
  {
   "cell_type": "markdown",
   "metadata": {},
   "source": [
    "Imprting Data from excel File using pandas lib"
   ]
  },
  {
   "cell_type": "code",
   "execution_count": 53,
   "metadata": {},
   "outputs": [
    {
     "data": {
      "text/plain": [
       "<bound method DataFrame.info of           Date       HPA       HPD  Cie  Ligne  Esc 1  Immat Type app   PKG  \\\n",
       "0   2022-04-09       NaN  07:15:00  DAH   4000    TUN  7TVKD     B738   P18   \n",
       "1   2022-04-09       NaN  07:30:00  DTH   1400    RNS  7TVCL     DH8D   PA1   \n",
       "2   2022-04-09       NaN  07:30:00  DTH   1408    RNS  7TVCR     DH8D   PA1   \n",
       "3   2022-04-09       NaN  08:00:00  DAH   6258    CZL  7TVUK    ATR72   PA1   \n",
       "4   2022-04-09       NaN  08:00:00  DTH   2320    AZR  7TVCE     B738   PA1   \n",
       "..         ...       ...       ...  ...    ...    ...    ...      ...   ...   \n",
       "189 2022-04-10       NaN  18:40:00  DAH   6006  7TVKD   B738      AAE  P11A   \n",
       "190 2022-04-10  19:55:00       NaN  DAH   1041  7TVKK   B738      NCE   P19   \n",
       "191 2022-04-10  20:30:00       NaN  DAH   4003  7TVKM   B738      TUN   P15   \n",
       "192 2022-04-10       NaN  22:45:00  DAH   4062  7TVJA   A330      DXB   P21   \n",
       "193 2022-04-10  22:50:00       NaN  AZA    802    NaN   A320      FCO   P16   \n",
       "\n",
       "          Remarque                 Comment Terminal  \n",
       "0    DECOLLE 07:45    MEP/RECH BAG-PX 102        T4  \n",
       "1    DECOLLE 07:35                     NaN       T2  \n",
       "2    DECOLLE 07:44                    06PX       T2  \n",
       "3    DECOLLE 08:00                    45PX       T2  \n",
       "4    DECOLLE 08:07                     C//       T2  \n",
       "..             ...                     ...      ...  \n",
       "189  DECOLLE 19:00  AH 6177 AAE 1740/57 PX       T2  \n",
       "190   ARRIVE 19:58                  138 PX       T4  \n",
       "191   ARRIVE 20:15                  119 PX       T4  \n",
       "192  DECOLLE 23:24         TRACTAGE/227 PX       T4  \n",
       "193   ARRIVE 23:26                  141 PX       T4  \n",
       "\n",
       "[194 rows x 12 columns]>"
      ]
     },
     "execution_count": 53,
     "metadata": {},
     "output_type": "execute_result"
    }
   ],
   "source": [
    "Data = pd.read_excel('Vol.xlsx', sheet_name='Vol')\n",
    "Data.info"
   ]
  },
  {
   "cell_type": "code",
   "execution_count": 54,
   "metadata": {},
   "outputs": [
    {
     "data": {
      "text/plain": [
       "<bound method NDFrame.head of           Date       HPA       HPD  Cie  Ligne  Esc 1  Immat Type app   PKG  \\\n",
       "0   2022-04-09       NaN  07:15:00  DAH   4000    TUN  7TVKD     B738   P18   \n",
       "1   2022-04-09       NaN  07:30:00  DTH   1400    RNS  7TVCL     DH8D   PA1   \n",
       "2   2022-04-09       NaN  07:30:00  DTH   1408    RNS  7TVCR     DH8D   PA1   \n",
       "3   2022-04-09       NaN  08:00:00  DAH   6258    CZL  7TVUK    ATR72   PA1   \n",
       "4   2022-04-09       NaN  08:00:00  DTH   2320    AZR  7TVCE     B738   PA1   \n",
       "..         ...       ...       ...  ...    ...    ...    ...      ...   ...   \n",
       "189 2022-04-10       NaN  18:40:00  DAH   6006  7TVKD   B738      AAE  P11A   \n",
       "190 2022-04-10  19:55:00       NaN  DAH   1041  7TVKK   B738      NCE   P19   \n",
       "191 2022-04-10  20:30:00       NaN  DAH   4003  7TVKM   B738      TUN   P15   \n",
       "192 2022-04-10       NaN  22:45:00  DAH   4062  7TVJA   A330      DXB   P21   \n",
       "193 2022-04-10  22:50:00       NaN  AZA    802    NaN   A320      FCO   P16   \n",
       "\n",
       "          Remarque                 Comment Terminal  \n",
       "0    DECOLLE 07:45    MEP/RECH BAG-PX 102        T4  \n",
       "1    DECOLLE 07:35                     NaN       T2  \n",
       "2    DECOLLE 07:44                    06PX       T2  \n",
       "3    DECOLLE 08:00                    45PX       T2  \n",
       "4    DECOLLE 08:07                     C//       T2  \n",
       "..             ...                     ...      ...  \n",
       "189  DECOLLE 19:00  AH 6177 AAE 1740/57 PX       T2  \n",
       "190   ARRIVE 19:58                  138 PX       T4  \n",
       "191   ARRIVE 20:15                  119 PX       T4  \n",
       "192  DECOLLE 23:24         TRACTAGE/227 PX       T4  \n",
       "193   ARRIVE 23:26                  141 PX       T4  \n",
       "\n",
       "[194 rows x 12 columns]>"
      ]
     },
     "execution_count": 54,
     "metadata": {},
     "output_type": "execute_result"
    }
   ],
   "source": [
    "Data.head"
   ]
  },
  {
   "cell_type": "code",
   "execution_count": 55,
   "metadata": {},
   "outputs": [
    {
     "ename": "KeyError",
     "evalue": "'Only a column name can be used for the key in a dtype mappings argument.'",
     "output_type": "error",
     "traceback": [
      "\u001b[1;31m---------------------------------------------------------------------------\u001b[0m",
      "\u001b[1;31mKeyError\u001b[0m                                  Traceback (most recent call last)",
      "\u001b[1;32m~\\AppData\\Local\\Temp/ipykernel_2576/3370791705.py\u001b[0m in \u001b[0;36m<module>\u001b[1;34m\u001b[0m\n\u001b[0;32m      1\u001b[0m \u001b[0mData\u001b[0m\u001b[1;33m.\u001b[0m\u001b[0mshape\u001b[0m\u001b[1;33m\u001b[0m\u001b[1;33m\u001b[0m\u001b[0m\n\u001b[1;32m----> 2\u001b[1;33m \u001b[0mData\u001b[0m\u001b[1;33m=\u001b[0m \u001b[0mData\u001b[0m\u001b[1;33m.\u001b[0m\u001b[0mastype\u001b[0m\u001b[1;33m(\u001b[0m\u001b[1;33m{\u001b[0m\u001b[1;34m\"DATE\"\u001b[0m\u001b[1;33m:\u001b[0m \u001b[0mstr\u001b[0m\u001b[1;33m}\u001b[0m\u001b[1;33m,\u001b[0m \u001b[0merrors\u001b[0m\u001b[1;33m=\u001b[0m\u001b[1;34m'raise'\u001b[0m\u001b[1;33m)\u001b[0m\u001b[1;33m\u001b[0m\u001b[1;33m\u001b[0m\u001b[0m\n\u001b[0m",
      "\u001b[1;32mc:\\Users\\pc\\AppData\\Local\\Programs\\Python\\Python39\\lib\\site-packages\\pandas\\core\\generic.py\u001b[0m in \u001b[0;36mastype\u001b[1;34m(self, dtype, copy, errors)\u001b[0m\n\u001b[0;32m   5789\u001b[0m             \u001b[1;32mfor\u001b[0m \u001b[0mcol_name\u001b[0m \u001b[1;32min\u001b[0m \u001b[0mdtype\u001b[0m\u001b[1;33m.\u001b[0m\u001b[0mkeys\u001b[0m\u001b[1;33m(\u001b[0m\u001b[1;33m)\u001b[0m\u001b[1;33m:\u001b[0m\u001b[1;33m\u001b[0m\u001b[1;33m\u001b[0m\u001b[0m\n\u001b[0;32m   5790\u001b[0m                 \u001b[1;32mif\u001b[0m \u001b[0mcol_name\u001b[0m \u001b[1;32mnot\u001b[0m \u001b[1;32min\u001b[0m \u001b[0mself\u001b[0m\u001b[1;33m:\u001b[0m\u001b[1;33m\u001b[0m\u001b[1;33m\u001b[0m\u001b[0m\n\u001b[1;32m-> 5791\u001b[1;33m                     raise KeyError(\n\u001b[0m\u001b[0;32m   5792\u001b[0m                         \u001b[1;34m\"Only a column name can be used for the \"\u001b[0m\u001b[1;33m\u001b[0m\u001b[1;33m\u001b[0m\u001b[0m\n\u001b[0;32m   5793\u001b[0m                         \u001b[1;34m\"key in a dtype mappings argument.\"\u001b[0m\u001b[1;33m\u001b[0m\u001b[1;33m\u001b[0m\u001b[0m\n",
      "\u001b[1;31mKeyError\u001b[0m: 'Only a column name can be used for the key in a dtype mappings argument.'"
     ]
    }
   ],
   "source": [
    "Data.shape\n",
    "Data= Data.astype({\"Date\": str}, errors='raise')"
   ]
  },
  {
   "cell_type": "markdown",
   "metadata": {},
   "source": [
    "We needed to make the data col as string because pands automaticly detaxted dates , but it made it deficult for us to process "
   ]
  },
  {
   "cell_type": "code",
   "execution_count": null,
   "metadata": {},
   "outputs": [
    {
     "name": "stdout",
     "output_type": "stream",
     "text": [
      "<class 'pandas.core.frame.DataFrame'>\n",
      "RangeIndex: 194 entries, 0 to 193\n",
      "Data columns (total 12 columns):\n",
      " #   Column    Non-Null Count  Dtype         \n",
      "---  ------    --------------  -----         \n",
      " 0   Date      194 non-null    datetime64[ns]\n",
      " 1   HPA       95 non-null     object        \n",
      " 2   HPD       99 non-null     object        \n",
      " 3   Cie       194 non-null    object        \n",
      " 4   Ligne     194 non-null    int64         \n",
      " 5   Esc 1     172 non-null    object        \n",
      " 6   Immat     180 non-null    object        \n",
      " 7   Type app  194 non-null    object        \n",
      " 8   PKG       194 non-null    object        \n",
      " 9   Remarque  194 non-null    object        \n",
      " 10  Comment   170 non-null    object        \n",
      " 11  Terminal  194 non-null    object        \n",
      "dtypes: datetime64[ns](1), int64(1), object(10)\n",
      "memory usage: 18.3+ KB\n"
     ]
    },
    {
     "ename": "KeyError",
     "evalue": "'DATE'",
     "output_type": "error",
     "traceback": [
      "\u001b[1;31m---------------------------------------------------------------------------\u001b[0m",
      "\u001b[1;31mKeyError\u001b[0m                                  Traceback (most recent call last)",
      "\u001b[1;32mc:\\Users\\pc\\AppData\\Local\\Programs\\Python\\Python39\\lib\\site-packages\\pandas\\core\\indexes\\base.py\u001b[0m in \u001b[0;36mget_loc\u001b[1;34m(self, key, method, tolerance)\u001b[0m\n\u001b[0;32m   3360\u001b[0m             \u001b[1;32mtry\u001b[0m\u001b[1;33m:\u001b[0m\u001b[1;33m\u001b[0m\u001b[1;33m\u001b[0m\u001b[0m\n\u001b[1;32m-> 3361\u001b[1;33m                 \u001b[1;32mreturn\u001b[0m \u001b[0mself\u001b[0m\u001b[1;33m.\u001b[0m\u001b[0m_engine\u001b[0m\u001b[1;33m.\u001b[0m\u001b[0mget_loc\u001b[0m\u001b[1;33m(\u001b[0m\u001b[0mcasted_key\u001b[0m\u001b[1;33m)\u001b[0m\u001b[1;33m\u001b[0m\u001b[1;33m\u001b[0m\u001b[0m\n\u001b[0m\u001b[0;32m   3362\u001b[0m             \u001b[1;32mexcept\u001b[0m \u001b[0mKeyError\u001b[0m \u001b[1;32mas\u001b[0m \u001b[0merr\u001b[0m\u001b[1;33m:\u001b[0m\u001b[1;33m\u001b[0m\u001b[1;33m\u001b[0m\u001b[0m\n",
      "\u001b[1;32mc:\\Users\\pc\\AppData\\Local\\Programs\\Python\\Python39\\lib\\site-packages\\pandas\\_libs\\index.pyx\u001b[0m in \u001b[0;36mpandas._libs.index.IndexEngine.get_loc\u001b[1;34m()\u001b[0m\n",
      "\u001b[1;32mc:\\Users\\pc\\AppData\\Local\\Programs\\Python\\Python39\\lib\\site-packages\\pandas\\_libs\\index.pyx\u001b[0m in \u001b[0;36mpandas._libs.index.IndexEngine.get_loc\u001b[1;34m()\u001b[0m\n",
      "\u001b[1;32mpandas\\_libs\\hashtable_class_helper.pxi\u001b[0m in \u001b[0;36mpandas._libs.hashtable.PyObjectHashTable.get_item\u001b[1;34m()\u001b[0m\n",
      "\u001b[1;32mpandas\\_libs\\hashtable_class_helper.pxi\u001b[0m in \u001b[0;36mpandas._libs.hashtable.PyObjectHashTable.get_item\u001b[1;34m()\u001b[0m\n",
      "\u001b[1;31mKeyError\u001b[0m: 'DATE'",
      "\nThe above exception was the direct cause of the following exception:\n",
      "\u001b[1;31mKeyError\u001b[0m                                  Traceback (most recent call last)",
      "\u001b[1;32m~\\AppData\\Local\\Temp/ipykernel_2576/2109592899.py\u001b[0m in \u001b[0;36m<module>\u001b[1;34m\u001b[0m\n\u001b[0;32m      1\u001b[0m \u001b[0mData\u001b[0m\u001b[1;33m.\u001b[0m\u001b[0minfo\u001b[0m\u001b[1;33m(\u001b[0m\u001b[1;33m)\u001b[0m\u001b[1;33m\u001b[0m\u001b[1;33m\u001b[0m\u001b[0m\n\u001b[1;32m----> 2\u001b[1;33m \u001b[0mprint\u001b[0m\u001b[1;33m(\u001b[0m\u001b[0mData\u001b[0m\u001b[1;33m[\u001b[0m\u001b[1;34m'DATE'\u001b[0m\u001b[1;33m]\u001b[0m\u001b[1;33m)\u001b[0m\u001b[1;33m\u001b[0m\u001b[1;33m\u001b[0m\u001b[0m\n\u001b[0m",
      "\u001b[1;32mc:\\Users\\pc\\AppData\\Local\\Programs\\Python\\Python39\\lib\\site-packages\\pandas\\core\\frame.py\u001b[0m in \u001b[0;36m__getitem__\u001b[1;34m(self, key)\u001b[0m\n\u001b[0;32m   3453\u001b[0m             \u001b[1;32mif\u001b[0m \u001b[0mself\u001b[0m\u001b[1;33m.\u001b[0m\u001b[0mcolumns\u001b[0m\u001b[1;33m.\u001b[0m\u001b[0mnlevels\u001b[0m \u001b[1;33m>\u001b[0m \u001b[1;36m1\u001b[0m\u001b[1;33m:\u001b[0m\u001b[1;33m\u001b[0m\u001b[1;33m\u001b[0m\u001b[0m\n\u001b[0;32m   3454\u001b[0m                 \u001b[1;32mreturn\u001b[0m \u001b[0mself\u001b[0m\u001b[1;33m.\u001b[0m\u001b[0m_getitem_multilevel\u001b[0m\u001b[1;33m(\u001b[0m\u001b[0mkey\u001b[0m\u001b[1;33m)\u001b[0m\u001b[1;33m\u001b[0m\u001b[1;33m\u001b[0m\u001b[0m\n\u001b[1;32m-> 3455\u001b[1;33m             \u001b[0mindexer\u001b[0m \u001b[1;33m=\u001b[0m \u001b[0mself\u001b[0m\u001b[1;33m.\u001b[0m\u001b[0mcolumns\u001b[0m\u001b[1;33m.\u001b[0m\u001b[0mget_loc\u001b[0m\u001b[1;33m(\u001b[0m\u001b[0mkey\u001b[0m\u001b[1;33m)\u001b[0m\u001b[1;33m\u001b[0m\u001b[1;33m\u001b[0m\u001b[0m\n\u001b[0m\u001b[0;32m   3456\u001b[0m             \u001b[1;32mif\u001b[0m \u001b[0mis_integer\u001b[0m\u001b[1;33m(\u001b[0m\u001b[0mindexer\u001b[0m\u001b[1;33m)\u001b[0m\u001b[1;33m:\u001b[0m\u001b[1;33m\u001b[0m\u001b[1;33m\u001b[0m\u001b[0m\n\u001b[0;32m   3457\u001b[0m                 \u001b[0mindexer\u001b[0m \u001b[1;33m=\u001b[0m \u001b[1;33m[\u001b[0m\u001b[0mindexer\u001b[0m\u001b[1;33m]\u001b[0m\u001b[1;33m\u001b[0m\u001b[1;33m\u001b[0m\u001b[0m\n",
      "\u001b[1;32mc:\\Users\\pc\\AppData\\Local\\Programs\\Python\\Python39\\lib\\site-packages\\pandas\\core\\indexes\\base.py\u001b[0m in \u001b[0;36mget_loc\u001b[1;34m(self, key, method, tolerance)\u001b[0m\n\u001b[0;32m   3361\u001b[0m                 \u001b[1;32mreturn\u001b[0m \u001b[0mself\u001b[0m\u001b[1;33m.\u001b[0m\u001b[0m_engine\u001b[0m\u001b[1;33m.\u001b[0m\u001b[0mget_loc\u001b[0m\u001b[1;33m(\u001b[0m\u001b[0mcasted_key\u001b[0m\u001b[1;33m)\u001b[0m\u001b[1;33m\u001b[0m\u001b[1;33m\u001b[0m\u001b[0m\n\u001b[0;32m   3362\u001b[0m             \u001b[1;32mexcept\u001b[0m \u001b[0mKeyError\u001b[0m \u001b[1;32mas\u001b[0m \u001b[0merr\u001b[0m\u001b[1;33m:\u001b[0m\u001b[1;33m\u001b[0m\u001b[1;33m\u001b[0m\u001b[0m\n\u001b[1;32m-> 3363\u001b[1;33m                 \u001b[1;32mraise\u001b[0m \u001b[0mKeyError\u001b[0m\u001b[1;33m(\u001b[0m\u001b[0mkey\u001b[0m\u001b[1;33m)\u001b[0m \u001b[1;32mfrom\u001b[0m \u001b[0merr\u001b[0m\u001b[1;33m\u001b[0m\u001b[1;33m\u001b[0m\u001b[0m\n\u001b[0m\u001b[0;32m   3364\u001b[0m \u001b[1;33m\u001b[0m\u001b[0m\n\u001b[0;32m   3365\u001b[0m         \u001b[1;32mif\u001b[0m \u001b[0mis_scalar\u001b[0m\u001b[1;33m(\u001b[0m\u001b[0mkey\u001b[0m\u001b[1;33m)\u001b[0m \u001b[1;32mand\u001b[0m \u001b[0misna\u001b[0m\u001b[1;33m(\u001b[0m\u001b[0mkey\u001b[0m\u001b[1;33m)\u001b[0m \u001b[1;32mand\u001b[0m \u001b[1;32mnot\u001b[0m \u001b[0mself\u001b[0m\u001b[1;33m.\u001b[0m\u001b[0mhasnans\u001b[0m\u001b[1;33m:\u001b[0m\u001b[1;33m\u001b[0m\u001b[1;33m\u001b[0m\u001b[0m\n",
      "\u001b[1;31mKeyError\u001b[0m: 'DATE'"
     ]
    }
   ],
   "source": [
    "Data.info()\n",
    "print(Data['Date'])\n"
   ]
  },
  {
   "cell_type": "code",
   "execution_count": null,
   "metadata": {},
   "outputs": [
    {
     "name": "stdout",
     "output_type": "stream",
     "text": [
      "['2022-04-09 07:15:00', '2022-04-09 07:30:00', '2022-04-09 07:30:00', '2022-04-09 08:00:00', '2022-04-09 08:00:00', '2022-04-09 08:15:00', '2022-04-09 08:45:00', '2022-04-09 08:45:00', '2022-04-09 08:50:00', '2022-04-09 09:00:00', '2022-04-09 09:10:00', '2022-04-09 09:10:00', '2022-04-09 09:10:00', '2022-04-09 09:10:00', '2022-04-09 09:15:00', '2022-04-09 09:15:00', '2022-04-09 09:15:00', '2022-04-09 09:20:00', '2022-04-09 09:45:00', '2022-04-09 09:45:00', '2022-04-09 10:00:00', '2022-04-09 10:00:00', '2022-04-09 10:00:00', '2022-04-09 10:10:00', '2022-04-09 10:15:00', '2022-04-09 10:20:00', '2022-04-09 10:20:00', '2022-04-09 10:25:00', '2022-04-09 10:30:00', '2022-04-09 10:30:00', '2022-04-09 10:30:00', '2022-04-09 10:35:00', '2022-04-09 10:50:00', '2022-04-09 10:50:00', '2022-04-09 11:00:00', '2022-04-09 11:00:00', '2022-04-09 11:05:00', '2022-04-09 11:20:00', '2022-04-09 11:35:00', '2022-04-09 11:45:00', '2022-04-09 11:45:00', '2022-04-09 12:00:00', '2022-04-09 12:05:00', '2022-04-09 12:25:00', '2022-04-09 12:30:00', '2022-04-09 12:30:00', '2022-04-09 13:00:00', '2022-04-09 13:05:00', '2022-04-09 13:10:00', '2022-04-09 13:15:00', '2022-04-09 13:20:00', '2022-04-09 13:20:00', '2022-04-09 13:25:00', '2022-04-09 13:35:00', '2022-04-09 14:20:00', '2022-04-09 14:30:00', '2022-04-09 14:30:00', '2022-04-09 14:30:00', '2022-04-09 14:30:00', '2022-04-09 14:35:00', '2022-04-09 15:00:00', '2022-04-09 15:10:00', '2022-04-09 15:15:00', '2022-04-09 15:15:00', '2022-04-09 15:20:00', '2022-04-09 15:20:00', '2022-04-09 15:25:00', '2022-04-09 15:35:00', '2022-04-09 15:50:00', '2022-04-09 16:00:00', '2022-04-09 16:00:00', '2022-04-09 16:00:00', '2022-04-09 16:05:00', '2022-04-09 16:15:00', '2022-04-09 16:40:00', '2022-04-09 16:40:00', '2022-04-09 16:45:00', '2022-04-09 16:45:00', '2022-04-09 16:55:00', '2022-04-09 16:55:00', '2022-04-09 17:05:00', '2022-04-09 17:10:00', '2022-04-09 17:15:00', '2022-04-09 17:20:00', '2022-04-09 17:30:00', '2022-04-09 17:40:00', '2022-04-09 17:40:00', '2022-04-09 17:45:00', '2022-04-09 18:00:00', '2022-04-09 18:00:00', '2022-04-09 18:05:00', '2022-04-09 18:20:00', '2022-04-09 18:20:00', '2022-04-09 18:30:00', '2022-04-09 18:40:00', '2022-04-09 18:40:00', '2022-04-09 19:05:00', '2022-04-09 19:15:00', '2022-04-09 19:25:00', '2022-04-09 19:25:00', '2022-04-09 19:35:00', '2022-04-09 21:00:00', '2022-04-10 04:55:00', '2022-04-10 05:00:00', '2022-04-10 07:20:00', '2022-04-10 07:30:00', '2022-04-10 08:00:00', '2022-04-10 08:15:00', '2022-04-10 08:15:00', '2022-04-10 08:25:00', '2022-04-10 08:30:00', '2022-04-10 08:40:00', '2022-04-10 08:40:00', '2022-04-10 09:00:00', '2022-04-10 09:10:00', '2022-04-10 09:15:00', '2022-04-10 09:30:00', '2022-04-10 09:35:00', '2022-04-10 09:45:00', '2022-04-10 10:00:00', '2022-04-10 10:00:00', '2022-04-10 10:05:00', '2022-04-10 10:10:00', '2022-04-10 10:15:00', '2022-04-10 10:15:00', '2022-04-10 10:15:00', '2022-04-10 10:15:00', '2022-04-10 10:20:00', '2022-04-10 10:20:00', '2022-04-10 10:25:00', '2022-04-10 10:30:00', '2022-04-10 10:45:00', '2022-04-10 11:00:00', '2022-04-10 11:20:00', '2022-04-10 11:20:00', '2022-04-10 11:25:00', '2022-04-10 11:25:00', '2022-04-10 11:40:00', '2022-04-10 11:50:00', '2022-04-10 11:55:00', '2022-04-10 12:00:00', '2022-04-10 12:10:00', '2022-04-10 12:25:00', '2022-04-10 12:45:00', '2022-04-10 12:45:00', '2022-04-10 12:50:00', '2022-04-10 12:55:00', '2022-04-10 13:15:00', '2022-04-10 13:15:00', '2022-04-10 13:15:00', '2022-04-10 13:40:00', '2022-04-10 14:00:00', '2022-04-10 14:00:00', '2022-04-10 14:05:00', '2022-04-10 14:15:00', '2022-04-10 14:30:00', '2022-04-10 14:30:00', '2022-04-10 14:50:00', '2022-04-10 14:50:00', '2022-04-10 14:55:00', '2022-04-10 15:00:00', '2022-04-10 15:05:00', '2022-04-10 15:10:00', '2022-04-10 15:10:00', '2022-04-10 15:15:00', '2022-04-10 15:20:00', '2022-04-10 15:30:00', '2022-04-10 15:30:00', '2022-04-10 15:50:00', '2022-04-10 16:05:00', '2022-04-10 16:25:00', '2022-04-10 16:30:00', '2022-04-10 16:35:00', '2022-04-10 16:50:00', '2022-04-10 16:55:00', '2022-04-10 17:10:00', '2022-04-10 17:15:00', '2022-04-10 17:20:00', '2022-04-10 17:20:00', '2022-04-10 17:20:00', '2022-04-10 17:40:00', '2022-04-10 17:55:00', '2022-04-10 18:15:00', '2022-04-10 18:15:00', '2022-04-10 18:20:00', '2022-04-10 18:20:00', '2022-04-10 18:30:00', '2022-04-10 18:30:00', '2022-04-10 18:30:00', '2022-04-10 18:40:00', '2022-04-10 19:55:00', '2022-04-10 20:30:00', '2022-04-10 22:45:00', '2022-04-10 22:50:00']\n",
      "           DATE       HPA       HPD  Cie  Ligne  Esc 1  Immat Type app   PKG  \\\n",
      "0    2022-04-09       NaN  07:15:00  DAH   4000    TUN  7TVKD     B738   P18   \n",
      "1    2022-04-09       NaN  07:30:00  DTH   1400    RNS  7TVCL     DH8D   PA1   \n",
      "2    2022-04-09       NaN  07:30:00  DTH   1408    RNS  7TVCR     DH8D   PA1   \n",
      "3    2022-04-09       NaN  08:00:00  DAH   6258    CZL  7TVUK    ATR72   PA1   \n",
      "4    2022-04-09       NaN  08:00:00  DTH   2320    AZR  7TVCE     B738   PA1   \n",
      "..          ...       ...       ...  ...    ...    ...    ...      ...   ...   \n",
      "189  2022-04-10       NaN  18:40:00  DAH   6006  7TVKD   B738      AAE  P11A   \n",
      "190  2022-04-10  19:55:00       NaN  DAH   1041  7TVKK   B738      NCE   P19   \n",
      "191  2022-04-10  20:30:00       NaN  DAH   4003  7TVKM   B738      TUN   P15   \n",
      "192  2022-04-10       NaN  22:45:00  DAH   4062  7TVJA   A330      DXB   P21   \n",
      "193  2022-04-10  22:50:00       NaN  AZA    802    NaN   A320      FCO   P16   \n",
      "\n",
      "          Remarque                 Comment Terminal             DATETIME  \n",
      "0    DECOLLE 07:45    MEP/RECH BAG-PX 102        T4  2022-04-09 07:15:00  \n",
      "1    DECOLLE 07:35                     NaN       T2  2022-04-09 07:30:00  \n",
      "2    DECOLLE 07:44                    06PX       T2  2022-04-09 07:30:00  \n",
      "3    DECOLLE 08:00                    45PX       T2  2022-04-09 08:00:00  \n",
      "4    DECOLLE 08:07                     C//       T2  2022-04-09 08:00:00  \n",
      "..             ...                     ...      ...                  ...  \n",
      "189  DECOLLE 19:00  AH 6177 AAE 1740/57 PX       T2  2022-04-10 18:40:00  \n",
      "190   ARRIVE 19:58                  138 PX       T4  2022-04-10 19:55:00  \n",
      "191   ARRIVE 20:15                  119 PX       T4  2022-04-10 20:30:00  \n",
      "192  DECOLLE 23:24         TRACTAGE/227 PX       T4  2022-04-10 22:45:00  \n",
      "193   ARRIVE 23:26                  141 PX       T4  2022-04-10 22:50:00  \n",
      "\n",
      "[194 rows x 13 columns]\n"
     ]
    }
   ],
   "source": [
    "\n",
    "Time=[]\n",
    "for i in range (len(Data)):\n",
    "    if pd.notna(Data['HPA'][i]) : #Convert heure prevu d'accostage and adding to her the exact date\n",
    "        Time.append(str(Data[\"Date\"][i])+\" \"+str(Data['HPA'][i]))\n",
    "    elif pd.notna(Data['HPD'][i]) :#Convert heure prevu d'essacostage and adding to her the exact date\n",
    "        Time.append(str(Data[\"Date\"][i])+\" \"+str(Data['HPD'][i]))\n",
    "    else:\n",
    "        Time.append(float('nan'))\n",
    "\n",
    "print(Time)\n",
    "Data['DATETIME']=Time #creating a new col in the table with the datetime for the operation .\n",
    "print(Data)"
   ]
  },
  {
   "cell_type": "code",
   "execution_count": null,
   "metadata": {},
   "outputs": [
    {
     "name": "stdout",
     "output_type": "stream",
     "text": [
      "[[6193, 6197], [6208, 6212], [6208, 6212], [6238, 6242], [6238, 6242], [6253, 6257], [6283, 6287], [6283, 6287], [6288, 6292], [6298, 6302], [6308, 6312], [6308, 6312], [6308, 6312], [6308, 6312], [6313, 6317], [6313, 6317], [6313, 6317], [6318, 6322], [6343, 6347], [6343, 6347], [6358, 6362], [6358, 6362], [6358, 6362], [6368, 6372], [6373, 6377], [6378, 6382], [6378, 6382], [6383, 6387], [6388, 6392], [6388, 6392], [6388, 6392], [6393, 6397], [6408, 6412], [6408, 6412], [6418, 6422], [6418, 6422], [6423, 6427], [6438, 6442], [6453, 6457], [6463, 6467], [6463, 6467], [6478, 6482], [6483, 6487], [6503, 6507], [6508, 6512], [6508, 6512], [6538, 6542], [6543, 6547], [6548, 6552], [6553, 6557], [6558, 6562], [6558, 6562], [6563, 6567], [6573, 6577], [6618, 6622], [6628, 6632], [6628, 6632], [6628, 6632], [6628, 6632], [6633, 6637], [6658, 6662], [6668, 6672], [6673, 6677], [6673, 6677], [6678, 6682], [6678, 6682], [6683, 6687], [6693, 6697], [6708, 6712], [6718, 6722], [6718, 6722], [6718, 6722], [6723, 6727], [6733, 6737], [6758, 6762], [6758, 6762], [6763, 6767], [6763, 6767], [6773, 6777], [6773, 6777], [6783, 6787], [6788, 6792], [6793, 6797], [6798, 6802], [6808, 6812], [6818, 6822], [6818, 6822], [6823, 6827], [6838, 6842], [6838, 6842], [6843, 6847], [6858, 6862], [6858, 6862], [6868, 6872], [6878, 6882], [6878, 6882], [6903, 6907], [6913, 6917], [6923, 6927], [6923, 6927], [6933, 6937], [7018, 7022], [6053, 6057], [6058, 6062], [6198, 6202], [6208, 6212], [6238, 6242], [6253, 6257], [6253, 6257], [6263, 6267], [6268, 6272], [6278, 6282], [6278, 6282], [6298, 6302], [6308, 6312], [6313, 6317], [6328, 6332], [6333, 6337], [6343, 6347], [6358, 6362], [6358, 6362], [6363, 6367], [6368, 6372], [6373, 6377], [6373, 6377], [6373, 6377], [6373, 6377], [6378, 6382], [6378, 6382], [6383, 6387], [6388, 6392], [6403, 6407], [6418, 6422], [6438, 6442], [6438, 6442], [6443, 6447], [6443, 6447], [6458, 6462], [6468, 6472], [6473, 6477], [6478, 6482], [6488, 6492], [6503, 6507], [6523, 6527], [6523, 6527], [6528, 6532], [6533, 6537], [6553, 6557], [6553, 6557], [6553, 6557], [6578, 6582], [6598, 6602], [6598, 6602], [6603, 6607], [6613, 6617], [6628, 6632], [6628, 6632], [6648, 6652], [6648, 6652], [6653, 6657], [6658, 6662], [6663, 6667], [6668, 6672], [6668, 6672], [6673, 6677], [6678, 6682], [6688, 6692], [6688, 6692], [6708, 6712], [6723, 6727], [6743, 6747], [6748, 6752], [6753, 6757], [6768, 6772], [6773, 6777], [6788, 6792], [6793, 6797], [6798, 6802], [6798, 6802], [6798, 6802], [6818, 6822], [6833, 6837], [6853, 6857], [6853, 6857], [6858, 6862], [6858, 6862], [6868, 6872], [6868, 6872], [6868, 6872], [6878, 6882], [6953, 6957], [6988, 6992], [7123, 7127], [7128, 7132]]\n"
     ]
    }
   ],
   "source": [
    "\n",
    "TimeGap=input('Give a Time GAP') #input gap time based on the need and calculation \n",
    "TimeGap=int(TimeGap)\n",
    "def Trans_to_min(x):\n",
    "    D=x.day*24*60\n",
    "    min = x.minute\n",
    "    H = x.hour *60\n",
    "    return int(D+min+H)\n",
    "# this fenction transfer the date time into a number , we transfered the date into munites also , because in the night shift , the 00:00 comes after 23:00 , so we needed another variable to tell us that the day changed\n",
    "\n",
    "Graph_intervale=[]\n",
    "\n",
    "for i in range(len(Data)):\n",
    "    try:\n",
    "        Graph_intervale.append([])\n",
    "        Time[i] = dt.datetime.strptime(str(Time[i]), '%Y-%d-%m %H:%M:%S')\n",
    "        min= Time[i]- dt.timedelta(minutes=TimeGap//2)\n",
    "        Graph_intervale[i].append(Trans_to_min(min))\n",
    "        max= Time[i]+ dt.timedelta(minutes=TimeGap//2)\n",
    "        Graph_intervale[i].append(Trans_to_min(max))\n",
    "    except:\n",
    "        Time[i] = dt.datetime.strptime(str(Time[i]), '%d-%m-%Y %H:%M:%S')\n",
    "        min= Time[i]- dt.timedelta(minutes=TimeGap//2)\n",
    "        Graph_intervale[i].append(Trans_to_min(min))\n",
    "        max= Time[i]+ dt.timedelta(minutes=TimeGap//2)\n",
    "        Graph_intervale[i].append(Trans_to_min(max)) \n",
    "print((Graph_intervale))\n",
    "Data['Graph_intervale']=Graph_intervale\n"
   ]
  },
  {
   "cell_type": "markdown",
   "metadata": {},
   "source": [
    "we transftered into munites every variables for us to create an interval of time ."
   ]
  },
  {
   "cell_type": "code",
   "execution_count": null,
   "metadata": {},
   "outputs": [
    {
     "name": "stdout",
     "output_type": "stream",
     "text": [
      "           DATE       HPA       HPD  Cie  Ligne  Esc 1  Immat Type app   PKG  \\\n",
      "0    2022-04-09       NaN  07:15:00  DAH   4000    TUN  7TVKD     B738   P18   \n",
      "1    2022-04-09       NaN  07:30:00  DTH   1400    RNS  7TVCL     DH8D   PA1   \n",
      "2    2022-04-09       NaN  07:30:00  DTH   1408    RNS  7TVCR     DH8D   PA1   \n",
      "3    2022-04-09       NaN  08:00:00  DAH   6258    CZL  7TVUK    ATR72   PA1   \n",
      "4    2022-04-09       NaN  08:00:00  DTH   2320    AZR  7TVCE     B738   PA1   \n",
      "..          ...       ...       ...  ...    ...    ...    ...      ...   ...   \n",
      "189  2022-04-10       NaN  18:40:00  DAH   6006  7TVKD   B738      AAE  P11A   \n",
      "190  2022-04-10  19:55:00       NaN  DAH   1041  7TVKK   B738      NCE   P19   \n",
      "191  2022-04-10  20:30:00       NaN  DAH   4003  7TVKM   B738      TUN   P15   \n",
      "192  2022-04-10       NaN  22:45:00  DAH   4062  7TVJA   A330      DXB   P21   \n",
      "193  2022-04-10  22:50:00       NaN  AZA    802    NaN   A320      FCO   P16   \n",
      "\n",
      "          Remarque                 Comment Terminal             DATETIME  \\\n",
      "0    DECOLLE 07:45    MEP/RECH BAG-PX 102        T4  2022-04-09 07:15:00   \n",
      "1    DECOLLE 07:35                     NaN       T2  2022-04-09 07:30:00   \n",
      "2    DECOLLE 07:44                    06PX       T2  2022-04-09 07:30:00   \n",
      "3    DECOLLE 08:00                    45PX       T2  2022-04-09 08:00:00   \n",
      "4    DECOLLE 08:07                     C//       T2  2022-04-09 08:00:00   \n",
      "..             ...                     ...      ...                  ...   \n",
      "189  DECOLLE 19:00  AH 6177 AAE 1740/57 PX       T2  2022-04-10 18:40:00   \n",
      "190   ARRIVE 19:58                  138 PX       T4  2022-04-10 19:55:00   \n",
      "191   ARRIVE 20:15                  119 PX       T4  2022-04-10 20:30:00   \n",
      "192  DECOLLE 23:24         TRACTAGE/227 PX       T4  2022-04-10 22:45:00   \n",
      "193   ARRIVE 23:26                  141 PX       T4  2022-04-10 22:50:00   \n",
      "\n",
      "    Graph_intervale  Brigade  \n",
      "0      [6193, 6197]     Nuit  \n",
      "1      [6208, 6212]     Nuit  \n",
      "2      [6208, 6212]     Nuit  \n",
      "3      [6238, 6242]  Journee  \n",
      "4      [6238, 6242]  Journee  \n",
      "..              ...      ...  \n",
      "189    [6878, 6882]  Journee  \n",
      "190    [6953, 6957]     Nuit  \n",
      "191    [6988, 6992]     Nuit  \n",
      "192    [7123, 7127]     Nuit  \n",
      "193    [7128, 7132]     Nuit  \n",
      "\n",
      "[194 rows x 15 columns]\n"
     ]
    }
   ],
   "source": [
    "Brigade=[]\n",
    "for i in range (len(Data)):\n",
    "    if (Time[i].hour >=0 and Time[i].hour<=7) or (Time[i].hour >=19 and Time[i].hour<=23): \n",
    "        Brigade.append(\"Nuit\")\n",
    "    else:\n",
    "        Brigade.append(\"Journee\")\n",
    "Data['Brigade']=Brigade\n",
    "print(Data)"
   ]
  },
  {
   "cell_type": "code",
   "execution_count": null,
   "metadata": {},
   "outputs": [],
   "source": [
    "#Select Brigate\n",
    "Date=input('Input your the date you want')\n",
    "Brigade=input('Input the brigade you want ')"
   ]
  },
  {
   "cell_type": "code",
   "execution_count": null,
   "metadata": {},
   "outputs": [
    {
     "name": "stdout",
     "output_type": "stream",
     "text": [
      "           DATE       HPA       HPD  Cie  Ligne  Esc 1  Immat Type app   PKG  \\\n",
      "106  2022-04-10       NaN  08:00:00  DAH   6038  7TVUN  ATR72      BLJ   PA1   \n",
      "107  2022-04-10       NaN  08:15:00  DAH   6170  7RVUK  ATR72      AAE   PA1   \n",
      "108  2022-04-10       NaN  08:15:00  DAH   6216  7TVUO  ATR72      OGX   PA1   \n",
      "109  2022-04-10  08:25:00       NaN  DTH   1903  7TVCD   B738      HME  P11A   \n",
      "110  2022-04-10  08:30:00       NaN  VLG   7476    NaN   A321      BCN   P16   \n",
      "..          ...       ...       ...  ...    ...    ...    ...      ...   ...   \n",
      "185  2022-04-10       NaN  18:20:00  DAH   6106  7TVKP   B738      ORN    P9   \n",
      "186  2022-04-10  18:30:00       NaN  DAH   6185  7TVKG   B738      ORN  P10C   \n",
      "187  2022-04-10       NaN  18:30:00  DAH   6200  7TVUO  ATR72      GHA   PA1   \n",
      "188  2022-04-10       NaN  18:30:00  DAH   6026  7TVKE   B738      CZL   P12   \n",
      "189  2022-04-10       NaN  18:40:00  DAH   6006  7TVKD   B738      AAE  P11A   \n",
      "\n",
      "          Remarque                 Comment Terminal             DATETIME  \\\n",
      "106  DECOLLE 08:00                   36 PX       T2  2022-04-10 08:00:00   \n",
      "107  DECOLLE 08:10                     NaN       T2  2022-04-10 08:15:00   \n",
      "108  DECOLLE 08:20                   65 PX       T2  2022-04-10 08:15:00   \n",
      "109   ARRIVE 08:14                   42 PX       T2  2022-04-10 08:25:00   \n",
      "110   ARRIVE 08:17                  151 PX       T4  2022-04-10 08:30:00   \n",
      "..             ...                     ...      ...                  ...   \n",
      "185  DECOLLE 18:22                   44 PX       T2  2022-04-10 18:20:00   \n",
      "186   ARRIVE 18:15                   93 PX       T2  2022-04-10 18:30:00   \n",
      "187  DECOLLE 18:25                   56 PX       T2  2022-04-10 18:30:00   \n",
      "188  DECOLLE 18:09  AH 6195 CZK 1710/54 PX       T2  2022-04-10 18:30:00   \n",
      "189  DECOLLE 19:00  AH 6177 AAE 1740/57 PX       T2  2022-04-10 18:40:00   \n",
      "\n",
      "    Graph_intervale  Brigade  \n",
      "106    [6238, 6242]  Journee  \n",
      "107    [6253, 6257]  Journee  \n",
      "108    [6253, 6257]  Journee  \n",
      "109    [6263, 6267]  Journee  \n",
      "110    [6268, 6272]  Journee  \n",
      "..              ...      ...  \n",
      "185    [6858, 6862]  Journee  \n",
      "186    [6868, 6872]  Journee  \n",
      "187    [6868, 6872]  Journee  \n",
      "188    [6868, 6872]  Journee  \n",
      "189    [6878, 6882]  Journee  \n",
      "\n",
      "[84 rows x 15 columns]\n"
     ]
    }
   ],
   "source": [
    "\n",
    "if Brigade=='Journee':\n",
    "    Selected_Data=Data.loc[(Data['DATE'] == Date) & (Data['Brigade'] == Brigade) ]\n",
    "if Brigade=='Nuit':\n",
    "    Time01 = dt.datetime.strptime(str(Date)+\" 19:00:00\", '%Y-%m-%d %H:%M:%S')\n",
    "    Time02 = dt.datetime.strptime(str(Date)+\" 08:00:00\", '%Y-%m-%d %H:%M:%S')\n",
    "\n",
    "    Time01=Trans_to_min(Time01)\n",
    "    Time02=Trans_to_min(Time02) + 24*60\n",
    "    print(Time01)\n",
    "    print(Time02)\n",
    "    Selected=[]\n",
    "    for i in range(len(Data)):\n",
    "        Time = dt.datetime.strptime(Data['DATETIME'][i], '%Y-%m-%d %H:%M:%S')\n",
    "        Time=Trans_to_min(Time)\n",
    "        if Time >= Time01 and Time < Time02 :\n",
    "            Selected.append(Data['DATETIME'][i])\n",
    "    Selected_Data = Data.loc[Data['DATETIME'].isin(Selected)]\n",
    "\n",
    "print(Selected_Data)\n"
   ]
  },
  {
   "cell_type": "markdown",
   "metadata": {},
   "source": [
    "Slection of the brigade based on the need , the pd.loc will filter based on the condition ,but the indexes will stay the same."
   ]
  },
  {
   "cell_type": "code",
   "execution_count": null,
   "metadata": {},
   "outputs": [
    {
     "name": "stdout",
     "output_type": "stream",
     "text": [
      "[list([6238, 6242]) list([6253, 6257]) list([6253, 6257])\n",
      " list([6263, 6267]) list([6268, 6272]) list([6278, 6282])\n",
      " list([6278, 6282]) list([6298, 6302]) list([6308, 6312])\n",
      " list([6313, 6317]) list([6328, 6332]) list([6333, 6337])\n",
      " list([6343, 6347]) list([6358, 6362]) list([6358, 6362])\n",
      " list([6363, 6367]) list([6368, 6372]) list([6373, 6377])\n",
      " list([6373, 6377]) list([6373, 6377]) list([6373, 6377])\n",
      " list([6378, 6382]) list([6378, 6382]) list([6383, 6387])\n",
      " list([6388, 6392]) list([6403, 6407]) list([6418, 6422])\n",
      " list([6438, 6442]) list([6438, 6442]) list([6443, 6447])\n",
      " list([6443, 6447]) list([6458, 6462]) list([6468, 6472])\n",
      " list([6473, 6477]) list([6478, 6482]) list([6488, 6492])\n",
      " list([6503, 6507]) list([6523, 6527]) list([6523, 6527])\n",
      " list([6528, 6532]) list([6533, 6537]) list([6553, 6557])\n",
      " list([6553, 6557]) list([6553, 6557]) list([6578, 6582])\n",
      " list([6598, 6602]) list([6598, 6602]) list([6603, 6607])\n",
      " list([6613, 6617]) list([6628, 6632]) list([6628, 6632])\n",
      " list([6648, 6652]) list([6648, 6652]) list([6653, 6657])\n",
      " list([6658, 6662]) list([6663, 6667]) list([6668, 6672])\n",
      " list([6668, 6672]) list([6673, 6677]) list([6678, 6682])\n",
      " list([6688, 6692]) list([6688, 6692]) list([6708, 6712])\n",
      " list([6723, 6727]) list([6743, 6747]) list([6748, 6752])\n",
      " list([6753, 6757]) list([6768, 6772]) list([6773, 6777])\n",
      " list([6788, 6792]) list([6793, 6797]) list([6798, 6802])\n",
      " list([6798, 6802]) list([6798, 6802]) list([6818, 6822])\n",
      " list([6833, 6837]) list([6853, 6857]) list([6853, 6857])\n",
      " list([6858, 6862]) list([6858, 6862]) list([6868, 6872])\n",
      " list([6868, 6872]) list([6868, 6872]) list([6878, 6882])]\n"
     ]
    }
   ],
   "source": [
    "Graph_intervale=Selected_Data[\"Graph_intervale\"]\n",
    "Graph_intervale=np.array(Graph_intervale) #doing array to remove the indexes from the selections before , also sice we require a type list for our code to work \n",
    "print(Graph_intervale)"
   ]
  },
  {
   "cell_type": "code",
   "execution_count": null,
   "metadata": {},
   "outputs": [
    {
     "name": "stdout",
     "output_type": "stream",
     "text": [
      "[[], [2], [1], [], [], [6], [5], [], [], [], [], [], [], [14], [13], [], [], [18, 19, 20], [17, 19, 20], [17, 18, 20], [17, 18, 19], [22], [21], [], [], [], [], [28], [27], [30], [29], [], [], [], [], [], [], [38], [37], [], [], [42, 43], [41, 43], [41, 42], [], [46], [45], [], [], [50], [49], [52], [51], [], [], [], [57], [56], [], [], [61], [60], [], [], [], [], [], [], [], [], [], [72, 73], [71, 73], [71, 72], [], [], [77], [76], [79], [78], [81, 82], [80, 82], [80, 81], []]\n"
     ]
    }
   ],
   "source": [
    "def Verify_in_interval(M1,M2):\n",
    "    if M1[0]<=M2[0] and M1[1]>=M2[0]:\n",
    "        return True\n",
    "    elif M1[0]<=M2[1] and M1[1]>=M2[1]:\n",
    "        return True\n",
    "    else: \n",
    "        return False \n",
    "def   listAdj(M):\n",
    "    listAdj=[]\n",
    "    for i in range(len(M)):\n",
    "        listAdj.append([])\n",
    "        for j in [x for x in range(len(M)) if x != i]:\n",
    "            if Verify_in_interval(M[i],M[j]) or Verify_in_interval(M[j],M[i]) :\n",
    "                listAdj[i].append(j)\n",
    "            else:\n",
    "                pass\n",
    "    return listAdj\n",
    "            #print(listAdj[i])\n",
    "    #print(listAdj[i])\n",
    "# print(M)\n",
    "Adj=listAdj(Graph_intervale)\n",
    "print(Adj)"
   ]
  },
  {
   "cell_type": "code",
   "execution_count": null,
   "metadata": {},
   "outputs": [],
   "source": [
    "def matriceAdj(Adj):\n",
    "    Mat=[]\n",
    "    for i in range( len(Adj)):\n",
    "        Mat.append([])\n",
    "        for j in range( len(Adj)):\n",
    "            Mat[i].append(0)\n",
    "            for k in range(len(Adj[i])):\n",
    "                if j==Adj[i][k]:\n",
    "                    Mat[i][j]=1\n",
    "    return Mat"
   ]
  },
  {
   "cell_type": "code",
   "execution_count": null,
   "metadata": {},
   "outputs": [],
   "source": [
    "def arret(M):\n",
    "    ex=[[],[]]\n",
    "    for i in range (len(M)-1):\n",
    "        for j in range(i+1,len(M)):\n",
    "            if M[i][j]==1:\n",
    "                ex[0].append(i)\n",
    "                ex[1].append(j)\n",
    "    return ex\n",
    "#Create a list of start and end of each arret in our graph"
   ]
  },
  {
   "cell_type": "code",
   "execution_count": null,
   "metadata": {},
   "outputs": [
    {
     "name": "stdout",
     "output_type": "stream",
     "text": [
      "[[0 0 0 ... 0 0 0]\n",
      " [0 0 1 ... 0 0 0]\n",
      " [0 1 0 ... 0 0 0]\n",
      " ...\n",
      " [0 0 0 ... 0 1 0]\n",
      " [0 0 0 ... 1 0 0]\n",
      " [0 0 0 ... 0 0 0]]\n"
     ]
    }
   ],
   "source": [
    "Mat=matriceAdj(Adj)\n",
    "Mat= np.array(Mat)\n",
    "print (Mat)"
   ]
  },
  {
   "cell_type": "code",
   "execution_count": null,
   "metadata": {},
   "outputs": [
    {
     "name": "stdout",
     "output_type": "stream",
     "text": [
      "ex1=  [1, 5, 13, 17, 17, 17, 18, 18, 19, 21, 27, 29, 37, 41, 41, 42, 45, 49, 51, 56, 60, 71, 71, 72, 76, 78, 80, 80, 81]\n",
      "ex2=  [2, 6, 14, 18, 19, 20, 19, 20, 20, 22, 28, 30, 38, 42, 43, 43, 46, 50, 52, 57, 61, 72, 73, 73, 77, 79, 81, 82, 82]\n",
      "29\n"
     ]
    }
   ],
   "source": [
    "Ex=arret(Mat)\n",
    "print(\"ex1= \",Ex[0])\n",
    "print(\"ex2= \",Ex[1])\n",
    "\n",
    "\n",
    "print(len(Ex[0]))"
   ]
  },
  {
   "cell_type": "code",
   "execution_count": null,
   "metadata": {},
   "outputs": [
    {
     "name": "stdout",
     "output_type": "stream",
     "text": [
      "[0, 0, 1, 0, 0, 0, 1, 0, 0, 0, 0, 0, 0, 0, 1, 0, 0, 0, 1, 2, 3, 0, 1, 0, 0, 0, 0, 0, 1, 0, 1, 0, 0, 0, 0, 0, 0, 0, 1, 0, 0, 0, 1, 2, 0, 0, 1, 0, 0, 0, 1, 0, 1, 0, 0, 0, 0, 1, 0, 0, 0, 1, 0, 0, 0, 0, 0, 0, 0, 0, 0, 0, 1, 2, 0, 0, 0, 1, 0, 1, 0, 1, 2, 0]\n",
      "4\n"
     ]
    }
   ],
   "source": [
    "def Gloton(Adj):\n",
    "    n=len(Adj)\n",
    "    NC=dict()\n",
    "    C=[0 for k in range(n)]\n",
    "    for i in range(n):\n",
    "        NC[i]=[]\n",
    "    def  rajouter(k,NC):\n",
    "        if ((k in NC)==True):\n",
    "            return NC\n",
    "        else:\n",
    "            NC.append(k)\n",
    "            return NC\n",
    "    i=0\n",
    "    while i<=n-1:\n",
    "        exist=True\n",
    "        k=0\n",
    "        while (exist==True):\n",
    "            exist=k in NC[i]\n",
    "            if (exist==True):\n",
    "                k+=1\n",
    "        C[i]=k    \n",
    "        for j in range(len(Adj[i])):\n",
    "            voisin=Adj[i][j]\n",
    "            NC[voisin]=rajouter(k,NC[voisin])\n",
    "        i+=1\n",
    "    return C\n",
    "C=Gloton(Adj)\n",
    "print(C)\n",
    "min_Conducteur=0\n",
    "for i in C:\n",
    "    if min_Conducteur<=i:\n",
    "        min_Conducteur=i\n",
    "min_Conducteur+=1\n",
    "print(min_Conducteur)\n",
    "Conducteur=0\n",
    "while (Conducteur<min_Conducteur):\n",
    "    Conducteur=input('Give the number of drivers bigger or equale to     '+str(min_Conducteur))\n",
    "    Conducteur=int(Conducteur)"
   ]
  },
  {
   "cell_type": "code",
   "execution_count": null,
   "metadata": {},
   "outputs": [
    {
     "name": "stdout",
     "output_type": "stream",
     "text": [
      "2\n"
     ]
    }
   ],
   "source": [
    "Slected_Terminal=np.array(Selected_Data['Terminal'])\n",
    "\n",
    "Value_Terminal=[]\n",
    "for i in range(len(Slected_Terminal)):\n",
    "    if Slected_Terminal[i]=='T1':\n",
    "        Value_Terminal.append(1)\n",
    "    elif Slected_Terminal[i]=='T2':\n",
    "        Value_Terminal.append(2)\n",
    "    else:\n",
    "        Value_Terminal.append(4)\n",
    "\n",
    "print(Value_Terminal[83])\n",
    "    "
   ]
  },
  {
   "cell_type": "code",
   "execution_count": null,
   "metadata": {},
   "outputs": [
    {
     "name": "stdout",
     "output_type": "stream",
     "text": [
      "range(0, 84)\n"
     ]
    }
   ],
   "source": [
    "Conducteur=20\n",
    "print(range(len(Slected_Terminal)))"
   ]
  },
  {
   "cell_type": "code",
   "execution_count": null,
   "metadata": {},
   "outputs": [
    {
     "name": "stdout",
     "output_type": "stream",
     "text": [
      "ERROR: Rule failed when generating expression for Constraint C2 with index (0,\n",
      "    29): KeyError: \"Index '29' is not valid for indexed component 'ex1'\"\n",
      "ERROR: Constructing component 'C2' from data=None failed: KeyError: \"Index\n",
      "    '29' is not valid for indexed component 'ex1'\"\n"
     ]
    },
    {
     "ename": "KeyError",
     "evalue": "\"Index '29' is not valid for indexed component 'ex1'\"",
     "output_type": "error",
     "traceback": [
      "\u001b[1;31m---------------------------------------------------------------------------\u001b[0m",
      "\u001b[1;31mKeyError\u001b[0m                                  Traceback (most recent call last)",
      "\u001b[1;32m~\\AppData\\Local\\Temp/ipykernel_2576/4286060258.py\u001b[0m in \u001b[0;36m<module>\u001b[1;34m\u001b[0m\n\u001b[0;32m     35\u001b[0m   \u001b[1;32mreturn\u001b[0m \u001b[1;33m(\u001b[0m\u001b[1;33m(\u001b[0m\u001b[0mmodel\u001b[0m\u001b[1;33m.\u001b[0m\u001b[0mx\u001b[0m\u001b[1;33m[\u001b[0m\u001b[0mi\u001b[0m\u001b[1;33m,\u001b[0m\u001b[0mmodel\u001b[0m\u001b[1;33m.\u001b[0m\u001b[0mex1\u001b[0m\u001b[1;33m[\u001b[0m\u001b[0mk\u001b[0m\u001b[1;33m]\u001b[0m\u001b[1;33m]\u001b[0m\u001b[1;33m+\u001b[0m\u001b[0mmodel\u001b[0m\u001b[1;33m.\u001b[0m\u001b[0mx\u001b[0m\u001b[1;33m[\u001b[0m\u001b[0mi\u001b[0m\u001b[1;33m,\u001b[0m\u001b[0mmodel\u001b[0m\u001b[1;33m.\u001b[0m\u001b[0mex2\u001b[0m\u001b[1;33m[\u001b[0m\u001b[0mk\u001b[0m\u001b[1;33m]\u001b[0m\u001b[1;33m]\u001b[0m\u001b[1;33m)\u001b[0m\u001b[1;33m)\u001b[0m \u001b[1;33m<=\u001b[0m \u001b[1;36m1\u001b[0m\u001b[1;33m\u001b[0m\u001b[1;33m\u001b[0m\u001b[0m\n\u001b[0;32m     36\u001b[0m \u001b[1;33m\u001b[0m\u001b[0m\n\u001b[1;32m---> 37\u001b[1;33m \u001b[0mmodel\u001b[0m\u001b[1;33m.\u001b[0m\u001b[0mC2\u001b[0m \u001b[1;33m=\u001b[0m \u001b[0mConstraint\u001b[0m \u001b[1;33m(\u001b[0m\u001b[0mmodel\u001b[0m\u001b[1;33m.\u001b[0m\u001b[0mC\u001b[0m\u001b[1;33m,\u001b[0m\u001b[0mmodel\u001b[0m\u001b[1;33m.\u001b[0m\u001b[0mJ\u001b[0m\u001b[1;33m,\u001b[0m \u001b[0mrule\u001b[0m\u001b[1;33m=\u001b[0m\u001b[0mContraint2\u001b[0m\u001b[1;33m,\u001b[0m \u001b[0mdoc\u001b[0m\u001b[1;33m=\u001b[0m\u001b[1;34m'verification de non chevauchement '\u001b[0m\u001b[1;33m)\u001b[0m\u001b[1;33m\u001b[0m\u001b[1;33m\u001b[0m\u001b[0m\n\u001b[0m\u001b[0;32m     38\u001b[0m \u001b[1;33m\u001b[0m\u001b[0m\n\u001b[0;32m     39\u001b[0m \u001b[1;32mdef\u001b[0m \u001b[0mContraint3\u001b[0m\u001b[1;33m(\u001b[0m\u001b[0mmodel\u001b[0m\u001b[1;33m,\u001b[0m\u001b[0mi\u001b[0m\u001b[1;33m)\u001b[0m\u001b[1;33m:\u001b[0m\u001b[1;33m\u001b[0m\u001b[1;33m\u001b[0m\u001b[0m\n",
      "\u001b[1;32mc:\\Users\\pc\\AppData\\Local\\Programs\\Python\\Python39\\lib\\site-packages\\pyomo\\core\\base\\block.py\u001b[0m in \u001b[0;36m__setattr__\u001b[1;34m(self, name, val)\u001b[0m\n\u001b[0;32m    540\u001b[0m                 \u001b[1;31m# Pyomo components are added with the add_component method.\u001b[0m\u001b[1;33m\u001b[0m\u001b[1;33m\u001b[0m\u001b[1;33m\u001b[0m\u001b[0m\n\u001b[0;32m    541\u001b[0m                 \u001b[1;31m#\u001b[0m\u001b[1;33m\u001b[0m\u001b[1;33m\u001b[0m\u001b[1;33m\u001b[0m\u001b[0m\n\u001b[1;32m--> 542\u001b[1;33m                 \u001b[0mself\u001b[0m\u001b[1;33m.\u001b[0m\u001b[0madd_component\u001b[0m\u001b[1;33m(\u001b[0m\u001b[0mname\u001b[0m\u001b[1;33m,\u001b[0m \u001b[0mval\u001b[0m\u001b[1;33m)\u001b[0m\u001b[1;33m\u001b[0m\u001b[1;33m\u001b[0m\u001b[0m\n\u001b[0m\u001b[0;32m    543\u001b[0m             \u001b[1;32melse\u001b[0m\u001b[1;33m:\u001b[0m\u001b[1;33m\u001b[0m\u001b[1;33m\u001b[0m\u001b[0m\n\u001b[0;32m    544\u001b[0m                 \u001b[1;31m#\u001b[0m\u001b[1;33m\u001b[0m\u001b[1;33m\u001b[0m\u001b[1;33m\u001b[0m\u001b[0m\n",
      "\u001b[1;32mc:\\Users\\pc\\AppData\\Local\\Programs\\Python\\Python39\\lib\\site-packages\\pyomo\\core\\base\\block.py\u001b[0m in \u001b[0;36madd_component\u001b[1;34m(self, name, val)\u001b[0m\n\u001b[0;32m   1085\u001b[0m                              _blockName, str(data))\n\u001b[0;32m   1086\u001b[0m             \u001b[1;32mtry\u001b[0m\u001b[1;33m:\u001b[0m\u001b[1;33m\u001b[0m\u001b[1;33m\u001b[0m\u001b[0m\n\u001b[1;32m-> 1087\u001b[1;33m                 \u001b[0mval\u001b[0m\u001b[1;33m.\u001b[0m\u001b[0mconstruct\u001b[0m\u001b[1;33m(\u001b[0m\u001b[0mdata\u001b[0m\u001b[1;33m)\u001b[0m\u001b[1;33m\u001b[0m\u001b[1;33m\u001b[0m\u001b[0m\n\u001b[0m\u001b[0;32m   1088\u001b[0m             \u001b[1;32mexcept\u001b[0m\u001b[1;33m:\u001b[0m\u001b[1;33m\u001b[0m\u001b[1;33m\u001b[0m\u001b[0m\n\u001b[0;32m   1089\u001b[0m                 \u001b[0merr\u001b[0m \u001b[1;33m=\u001b[0m \u001b[0msys\u001b[0m\u001b[1;33m.\u001b[0m\u001b[0mexc_info\u001b[0m\u001b[1;33m(\u001b[0m\u001b[1;33m)\u001b[0m\u001b[1;33m[\u001b[0m\u001b[1;36m1\u001b[0m\u001b[1;33m]\u001b[0m\u001b[1;33m\u001b[0m\u001b[1;33m\u001b[0m\u001b[0m\n",
      "\u001b[1;32mc:\\Users\\pc\\AppData\\Local\\Programs\\Python\\Python39\\lib\\site-packages\\pyomo\\core\\base\\constraint.py\u001b[0m in \u001b[0;36mconstruct\u001b[1;34m(self, data)\u001b[0m\n\u001b[0;32m    746\u001b[0m                 \u001b[1;31m# Bypass the index validation and create the member directly\u001b[0m\u001b[1;33m\u001b[0m\u001b[1;33m\u001b[0m\u001b[1;33m\u001b[0m\u001b[0m\n\u001b[0;32m    747\u001b[0m                 \u001b[1;32mfor\u001b[0m \u001b[0mindex\u001b[0m \u001b[1;32min\u001b[0m \u001b[0mself\u001b[0m\u001b[1;33m.\u001b[0m\u001b[0mindex_set\u001b[0m\u001b[1;33m(\u001b[0m\u001b[1;33m)\u001b[0m\u001b[1;33m:\u001b[0m\u001b[1;33m\u001b[0m\u001b[1;33m\u001b[0m\u001b[0m\n\u001b[1;32m--> 748\u001b[1;33m                     \u001b[0mself\u001b[0m\u001b[1;33m.\u001b[0m\u001b[0m_setitem_when_not_present\u001b[0m\u001b[1;33m(\u001b[0m\u001b[0mindex\u001b[0m\u001b[1;33m,\u001b[0m \u001b[0mrule\u001b[0m\u001b[1;33m(\u001b[0m\u001b[0mblock\u001b[0m\u001b[1;33m,\u001b[0m \u001b[0mindex\u001b[0m\u001b[1;33m)\u001b[0m\u001b[1;33m)\u001b[0m\u001b[1;33m\u001b[0m\u001b[1;33m\u001b[0m\u001b[0m\n\u001b[0m\u001b[0;32m    749\u001b[0m         \u001b[1;32mexcept\u001b[0m \u001b[0mException\u001b[0m\u001b[1;33m:\u001b[0m\u001b[1;33m\u001b[0m\u001b[1;33m\u001b[0m\u001b[0m\n\u001b[0;32m    750\u001b[0m             \u001b[0merr\u001b[0m \u001b[1;33m=\u001b[0m \u001b[0msys\u001b[0m\u001b[1;33m.\u001b[0m\u001b[0mexc_info\u001b[0m\u001b[1;33m(\u001b[0m\u001b[1;33m)\u001b[0m\u001b[1;33m[\u001b[0m\u001b[1;36m1\u001b[0m\u001b[1;33m]\u001b[0m\u001b[1;33m\u001b[0m\u001b[1;33m\u001b[0m\u001b[0m\n",
      "\u001b[1;32mc:\\Users\\pc\\AppData\\Local\\Programs\\Python\\Python39\\lib\\site-packages\\pyomo\\core\\base\\initializer.py\u001b[0m in \u001b[0;36m__call__\u001b[1;34m(self, parent, idx)\u001b[0m\n\u001b[0;32m    248\u001b[0m         \u001b[1;31m# the user's responsibility to sort things out.\u001b[0m\u001b[1;33m\u001b[0m\u001b[1;33m\u001b[0m\u001b[1;33m\u001b[0m\u001b[0m\n\u001b[0;32m    249\u001b[0m         \u001b[1;32mif\u001b[0m \u001b[0midx\u001b[0m\u001b[1;33m.\u001b[0m\u001b[0m__class__\u001b[0m \u001b[1;32mis\u001b[0m \u001b[0mtuple\u001b[0m\u001b[1;33m:\u001b[0m\u001b[1;33m\u001b[0m\u001b[1;33m\u001b[0m\u001b[0m\n\u001b[1;32m--> 250\u001b[1;33m             \u001b[1;32mreturn\u001b[0m \u001b[0mself\u001b[0m\u001b[1;33m.\u001b[0m\u001b[0m_fcn\u001b[0m\u001b[1;33m(\u001b[0m\u001b[0mparent\u001b[0m\u001b[1;33m,\u001b[0m \u001b[1;33m*\u001b[0m\u001b[0midx\u001b[0m\u001b[1;33m)\u001b[0m\u001b[1;33m\u001b[0m\u001b[1;33m\u001b[0m\u001b[0m\n\u001b[0m\u001b[0;32m    251\u001b[0m         \u001b[1;32melse\u001b[0m\u001b[1;33m:\u001b[0m\u001b[1;33m\u001b[0m\u001b[1;33m\u001b[0m\u001b[0m\n\u001b[0;32m    252\u001b[0m             \u001b[1;32mreturn\u001b[0m \u001b[0mself\u001b[0m\u001b[1;33m.\u001b[0m\u001b[0m_fcn\u001b[0m\u001b[1;33m(\u001b[0m\u001b[0mparent\u001b[0m\u001b[1;33m,\u001b[0m \u001b[0midx\u001b[0m\u001b[1;33m)\u001b[0m\u001b[1;33m\u001b[0m\u001b[1;33m\u001b[0m\u001b[0m\n",
      "\u001b[1;32m~\\AppData\\Local\\Temp/ipykernel_2576/4286060258.py\u001b[0m in \u001b[0;36mContraint2\u001b[1;34m(model, i, k)\u001b[0m\n\u001b[0;32m     33\u001b[0m \u001b[1;33m\u001b[0m\u001b[0m\n\u001b[0;32m     34\u001b[0m \u001b[1;32mdef\u001b[0m \u001b[0mContraint2\u001b[0m\u001b[1;33m(\u001b[0m\u001b[0mmodel\u001b[0m\u001b[1;33m,\u001b[0m\u001b[0mi\u001b[0m\u001b[1;33m,\u001b[0m\u001b[0mk\u001b[0m\u001b[1;33m)\u001b[0m\u001b[1;33m:\u001b[0m\u001b[1;33m\u001b[0m\u001b[1;33m\u001b[0m\u001b[0m\n\u001b[1;32m---> 35\u001b[1;33m   \u001b[1;32mreturn\u001b[0m \u001b[1;33m(\u001b[0m\u001b[1;33m(\u001b[0m\u001b[0mmodel\u001b[0m\u001b[1;33m.\u001b[0m\u001b[0mx\u001b[0m\u001b[1;33m[\u001b[0m\u001b[0mi\u001b[0m\u001b[1;33m,\u001b[0m\u001b[0mmodel\u001b[0m\u001b[1;33m.\u001b[0m\u001b[0mex1\u001b[0m\u001b[1;33m[\u001b[0m\u001b[0mk\u001b[0m\u001b[1;33m]\u001b[0m\u001b[1;33m]\u001b[0m\u001b[1;33m+\u001b[0m\u001b[0mmodel\u001b[0m\u001b[1;33m.\u001b[0m\u001b[0mx\u001b[0m\u001b[1;33m[\u001b[0m\u001b[0mi\u001b[0m\u001b[1;33m,\u001b[0m\u001b[0mmodel\u001b[0m\u001b[1;33m.\u001b[0m\u001b[0mex2\u001b[0m\u001b[1;33m[\u001b[0m\u001b[0mk\u001b[0m\u001b[1;33m]\u001b[0m\u001b[1;33m]\u001b[0m\u001b[1;33m)\u001b[0m\u001b[1;33m)\u001b[0m \u001b[1;33m<=\u001b[0m \u001b[1;36m1\u001b[0m\u001b[1;33m\u001b[0m\u001b[1;33m\u001b[0m\u001b[0m\n\u001b[0m\u001b[0;32m     36\u001b[0m \u001b[1;33m\u001b[0m\u001b[0m\n\u001b[0;32m     37\u001b[0m \u001b[0mmodel\u001b[0m\u001b[1;33m.\u001b[0m\u001b[0mC2\u001b[0m \u001b[1;33m=\u001b[0m \u001b[0mConstraint\u001b[0m \u001b[1;33m(\u001b[0m\u001b[0mmodel\u001b[0m\u001b[1;33m.\u001b[0m\u001b[0mC\u001b[0m\u001b[1;33m,\u001b[0m\u001b[0mmodel\u001b[0m\u001b[1;33m.\u001b[0m\u001b[0mJ\u001b[0m\u001b[1;33m,\u001b[0m \u001b[0mrule\u001b[0m\u001b[1;33m=\u001b[0m\u001b[0mContraint2\u001b[0m\u001b[1;33m,\u001b[0m \u001b[0mdoc\u001b[0m\u001b[1;33m=\u001b[0m\u001b[1;34m'verification de non chevauchement '\u001b[0m\u001b[1;33m)\u001b[0m\u001b[1;33m\u001b[0m\u001b[1;33m\u001b[0m\u001b[0m\n",
      "\u001b[1;32mc:\\Users\\pc\\AppData\\Local\\Programs\\Python\\Python39\\lib\\site-packages\\pyomo\\core\\base\\indexed_component.py\u001b[0m in \u001b[0;36m__getitem__\u001b[1;34m(self, index)\u001b[0m\n\u001b[0;32m    551\u001b[0m             \u001b[1;32mif\u001b[0m \u001b[0mindex\u001b[0m\u001b[1;33m.\u001b[0m\u001b[0m__class__\u001b[0m \u001b[1;32mis\u001b[0m \u001b[0mEXPR\u001b[0m\u001b[1;33m.\u001b[0m\u001b[0mGetItemExpression\u001b[0m\u001b[1;33m:\u001b[0m\u001b[1;33m\u001b[0m\u001b[1;33m\u001b[0m\u001b[0m\n\u001b[0;32m    552\u001b[0m                 \u001b[1;32mreturn\u001b[0m \u001b[0mindex\u001b[0m\u001b[1;33m\u001b[0m\u001b[1;33m\u001b[0m\u001b[0m\n\u001b[1;32m--> 553\u001b[1;33m             \u001b[0mvalidated_index\u001b[0m \u001b[1;33m=\u001b[0m \u001b[0mself\u001b[0m\u001b[1;33m.\u001b[0m\u001b[0m_validate_index\u001b[0m\u001b[1;33m(\u001b[0m\u001b[0mindex\u001b[0m\u001b[1;33m)\u001b[0m\u001b[1;33m\u001b[0m\u001b[1;33m\u001b[0m\u001b[0m\n\u001b[0m\u001b[0;32m    554\u001b[0m             \u001b[1;32mif\u001b[0m \u001b[0mvalidated_index\u001b[0m \u001b[1;32mis\u001b[0m \u001b[1;32mnot\u001b[0m \u001b[0mindex\u001b[0m\u001b[1;33m:\u001b[0m\u001b[1;33m\u001b[0m\u001b[1;33m\u001b[0m\u001b[0m\n\u001b[0;32m    555\u001b[0m                 \u001b[0mindex\u001b[0m \u001b[1;33m=\u001b[0m \u001b[0mvalidated_index\u001b[0m\u001b[1;33m\u001b[0m\u001b[1;33m\u001b[0m\u001b[0m\n",
      "\u001b[1;32mc:\\Users\\pc\\AppData\\Local\\Programs\\Python\\Python39\\lib\\site-packages\\pyomo\\core\\base\\indexed_component.py\u001b[0m in \u001b[0;36m_validate_index\u001b[1;34m(self, idx)\u001b[0m\n\u001b[0;32m    776\u001b[0m         \u001b[1;31m# Raise an exception\u001b[0m\u001b[1;33m\u001b[0m\u001b[1;33m\u001b[0m\u001b[1;33m\u001b[0m\u001b[0m\n\u001b[0;32m    777\u001b[0m         \u001b[1;31m#\u001b[0m\u001b[1;33m\u001b[0m\u001b[1;33m\u001b[0m\u001b[1;33m\u001b[0m\u001b[0m\n\u001b[1;32m--> 778\u001b[1;33m         raise KeyError(\n\u001b[0m\u001b[0;32m    779\u001b[0m             \u001b[1;34m\"Index '%s' is not valid for indexed component '%s'\"\u001b[0m\u001b[1;33m\u001b[0m\u001b[1;33m\u001b[0m\u001b[0m\n\u001b[0;32m    780\u001b[0m             % ( idx, self.name, ))\n",
      "\u001b[1;31mKeyError\u001b[0m: \"Index '29' is not valid for indexed component 'ex1'\""
     ]
    }
   ],
   "source": [
    "# %%\n",
    "# Import of the pyomo module\n",
    "from pyomo.environ import *\n",
    "from pyomo.opt import SolverFactory\n",
    "import pyomo.environ\n",
    "\n",
    "# Creation of a Concrete Model\n",
    "model = ConcreteModel()\n",
    "\n",
    "# %%\n",
    "model.C = Set(initialize=range(Conducteur), doc='les Conducteur')\n",
    "model.J = Set(initialize=range(len(Adj)), doc='les jobs')\n",
    "model.A = Set(initialize=range(len(Ex[0])), doc='les arcs')\n",
    "model.t = Set (initialize=[1,2,4], doc='Terminal')\n",
    "# %%\n",
    "model.n = Param(initialize=len(Adj), doc='le nombre de jobs')\n",
    "model.c = Param(initialize=6, doc='le nombre de conducteur')\n",
    "\n",
    "model.ex1 = Param(model.A,initialize=Ex[0], doc='extrémité 1')\n",
    "model.ex2 = Param(model.A,initialize=Ex[1], doc='extrémité 2')\n",
    "model.T = Param(model.J,initialize=Value_Terminal, doc='les Terminal Affecté')\n",
    "# %%\n",
    "model.x = Var(model.C, model.J,domain=Binary, doc='affectation conducteur')\n",
    "model.alpha = Var(model.C, model.t,domain=Binary, doc='affectation conducteur au terminal')\n",
    "model.v = Var(model.C,bounds=(0,None),domain=Integers, doc='les taches')\n",
    "model.y = Var(bounds=(0,None),domain=Integers, doc='valeur de comparaison')\n",
    "\n",
    "# %%\n",
    "def Cotraint1(model,j):\n",
    "  return sum(model.x[i,j] for i in model.C) == 1\n",
    "model.C1 = Constraint(model.J, rule=Cotraint1, doc='verification daffectation')\n",
    "\n",
    "\n",
    "def Contraint2(model,i,k):\n",
    "  return ((model.x[i,model.ex1[k]]+model.x[i,model.ex2[k]])) <= 1  \n",
    "\n",
    "model.C2 = Constraint (model.C,model.J, rule=Contraint2, doc='verification de non chevauchement ')\n",
    "\n",
    "def Contraint3(model,i):\n",
    "  return sum(model.x[i,j] for j in model.J)==model.v[i]\n",
    "\n",
    "model.C3 = Constraint (model.C, rule=Contraint3, doc='une seul tache par conducteur')\n",
    "\n",
    "def Contraint4(model,i):\n",
    "  return (model.v[i]<=model.y)\n",
    "\n",
    "model.C4 = Constraint (model.C, rule=Contraint4, doc='maximiser')\n",
    "\n",
    "def Contraint5(model,i):\n",
    "  return sum(model.alpha[i,k] for k in model.t) == 1\n",
    "model.C5 = Constraint(model.C, rule=Contraint5, doc='verification daffectation de terminal')\n",
    "\n",
    "def Contraint6(model,i,j):\n",
    "  return (model.alpha[i,model.T[j]] >= model.x[i,j] )\n",
    "model.C6 = Constraint(model.C,model.J, rule=Contraint6, doc='verification daffectation au t')\n",
    "# %%\n",
    "\n",
    "# %%\n",
    "def objective_rule(model):\n",
    "  return model.y\n",
    "model.objective = Objective(rule=objective_rule, sense=minimize, doc='Define objective function')\n",
    "\n",
    "# %%\n",
    "def pyomo_postprocess(options=None, instance=None, results=None):\n",
    "  model.x.display()\n",
    "# %%\n",
    "\n",
    "\n",
    "opt = SolverFactory(\"gurobi\")\n",
    "results = opt.solve(model)\n",
    "#sends results to stdout\n",
    "results.write()\n",
    "print(\"\\nDisplaying Solution\\n\" + '-'*60)\n",
    "pyomo_postprocess(None, model, results)\n",
    "# %%\n",
    "\n",
    "\n"
   ]
  },
  {
   "cell_type": "code",
   "execution_count": null,
   "metadata": {},
   "outputs": [
    {
     "name": "stdout",
     "output_type": "stream",
     "text": [
      "v : les taches\n",
      "    Size=20, Index=C\n",
      "    Key : Lower : Value : Upper : Fixed : Stale : Domain\n",
      "      0 :     0 :  None :  None : False :  True : Integers\n",
      "      1 :     0 :  None :  None : False :  True : Integers\n",
      "      2 :     0 :  None :  None : False :  True : Integers\n",
      "      3 :     0 :  None :  None : False :  True : Integers\n",
      "      4 :     0 :  None :  None : False :  True : Integers\n",
      "      5 :     0 :  None :  None : False :  True : Integers\n",
      "      6 :     0 :  None :  None : False :  True : Integers\n",
      "      7 :     0 :  None :  None : False :  True : Integers\n",
      "      8 :     0 :  None :  None : False :  True : Integers\n",
      "      9 :     0 :  None :  None : False :  True : Integers\n",
      "     10 :     0 :  None :  None : False :  True : Integers\n",
      "     11 :     0 :  None :  None : False :  True : Integers\n",
      "     12 :     0 :  None :  None : False :  True : Integers\n",
      "     13 :     0 :  None :  None : False :  True : Integers\n",
      "     14 :     0 :  None :  None : False :  True : Integers\n",
      "     15 :     0 :  None :  None : False :  True : Integers\n",
      "     16 :     0 :  None :  None : False :  True : Integers\n",
      "     17 :     0 :  None :  None : False :  True : Integers\n",
      "     18 :     0 :  None :  None : False :  True : Integers\n",
      "     19 :     0 :  None :  None : False :  True : Integers\n"
     ]
    }
   ],
   "source": [
    "model.v.display()\n",
    "#verfy how much each driver is working per day"
   ]
  },
  {
   "cell_type": "code",
   "execution_count": null,
   "metadata": {},
   "outputs": [
    {
     "name": "stdout",
     "output_type": "stream",
     "text": [
      "[[], [], [], [], [], [], [], [], [], [], [], [], [], [], [], [], [], [], [], []]\n",
      "list des vols du conducteur 1\n",
      "Terminal       N Parking          Time\n",
      "list des vols du conducteur 2\n",
      "Terminal       N Parking          Time\n",
      "list des vols du conducteur 3\n",
      "Terminal       N Parking          Time\n",
      "list des vols du conducteur 4\n",
      "Terminal       N Parking          Time\n",
      "list des vols du conducteur 5\n",
      "Terminal       N Parking          Time\n",
      "list des vols du conducteur 6\n",
      "Terminal       N Parking          Time\n",
      "list des vols du conducteur 7\n",
      "Terminal       N Parking          Time\n",
      "list des vols du conducteur 8\n",
      "Terminal       N Parking          Time\n",
      "list des vols du conducteur 9\n",
      "Terminal       N Parking          Time\n",
      "list des vols du conducteur 10\n",
      "Terminal       N Parking          Time\n",
      "list des vols du conducteur 11\n",
      "Terminal       N Parking          Time\n",
      "list des vols du conducteur 12\n",
      "Terminal       N Parking          Time\n",
      "list des vols du conducteur 13\n",
      "Terminal       N Parking          Time\n",
      "list des vols du conducteur 14\n",
      "Terminal       N Parking          Time\n",
      "list des vols du conducteur 15\n",
      "Terminal       N Parking          Time\n",
      "list des vols du conducteur 16\n",
      "Terminal       N Parking          Time\n",
      "list des vols du conducteur 17\n",
      "Terminal       N Parking          Time\n",
      "list des vols du conducteur 18\n",
      "Terminal       N Parking          Time\n",
      "list des vols du conducteur 19\n",
      "Terminal       N Parking          Time\n",
      "list des vols du conducteur 20\n",
      "Terminal       N Parking          Time\n"
     ]
    }
   ],
   "source": [
    "x=model.x\n",
    "Group_co=[]\n",
    "for i in model.C:\n",
    "    Group_co.append([])\n",
    "    for j in model.J:\n",
    "        if x[i,j].value == 1:\n",
    "            Group_co[i].append(j)\n",
    "\n",
    "print(Group_co)\n",
    "\n",
    "Slected_DATETIME= np.array(Selected_Data['DATETIME'])\n",
    "Slected_Terminal=np.array(Selected_Data['Terminal'])\n",
    "Slected_PKG=np.array(Selected_Data['PKG'])\n",
    "#Slected_HPA=np.array(Selected_Data['HPA'])\n",
    "#Slected_HPD=np.array(Selected_Data['HPD'])\n",
    "for i in range(len(Group_co)):\n",
    "    print(\"list des vols du conducteur \"+str(i+1))\n",
    "    print(\"Terminal       N Parking          Time\")\n",
    "\n",
    "    for j in Group_co[i]:\n",
    "        print(Slected_Terminal[j]+'  |  '+Slected_PKG[j]+'  |  '+Slected_DATETIME[j])\n",
    "\n",
    "\n",
    "\n",
    "\n"
   ]
  },
  {
   "cell_type": "code",
   "execution_count": null,
   "metadata": {},
   "outputs": [],
   "source": [
    "Slected_DATETIME= np.array(Selected_Data['DATETIME'])\n",
    "Slected_Terminal=np.array(Selected_Data['Terminal'])\n",
    "Slected_PKG=np.array(Selected_Data['PKG'])\n",
    "Slected_HPA=np.array(Selected_Data['HPA'])\n",
    "Slected_HPD=np.array(Selected_Data['HPD'])\n",
    "Slected_date=np.array(Selected_Data['DATE'])\n",
    "\n",
    "import xlwt\n",
    "from tempfile import TemporaryFile\n",
    "\n",
    "import xlwt\n",
    "from xlwt.Workbook import *\n",
    "from pandas import ExcelWriter\n",
    "import xlsxwriter\n",
    "book = pd.ExcelWriter('Conducteur'+str(Date)+'-'+str(Brigade)+'.xlsx', engine='xlsxwriter')\n",
    "for i in range(len(Group_co)):\n",
    "    data=None\n",
    "    Terminal=[]\n",
    "    PKG=[]\n",
    "    date=[]\n",
    "    HPA=[]\n",
    "    HPD=[]\n",
    "    for j in Group_co[i]:\n",
    "        date.append(Slected_date[j])\n",
    "        HPA.append(Slected_HPA[j])\n",
    "        HPD.append(Slected_HPD[j])\n",
    "        Terminal.append(Slected_Terminal[j])\n",
    "        PKG.append(Slected_PKG[j])\n",
    "    \n",
    "    DATA=list(zip(date, HPA,HPD,Terminal,PKG))\n",
    "    data=pd.DataFrame(DATA,columns=['date','HPA','HPD','Terminal','PKG'])\n",
    "    data.to_excel(book, sheet_name='Conducteur '+str(i+1))\n"
   ]
  },
  {
   "cell_type": "code",
   "execution_count": null,
   "metadata": {},
   "outputs": [],
   "source": [
    "import xlwt\n",
    "from tempfile import TemporaryFile\n",
    "book = xlwt.Workbook()\n",
    "sheet1 = book.add_sheet('sheet1')\n",
    "\n",
    "supersecretdata = [34,123,4,1234,12,34,12,41,234,123,3,56]\n",
    "\n",
    "for i,e in enumerate(supersecretdata):\n",
    "    sheet1.write(i,1,e)\n",
    "\n",
    "name = \"random.xls\"\n",
    "book.save(name)\n",
    "book.save(TemporaryFile())"
   ]
  }
 ],
 "metadata": {
  "interpreter": {
   "hash": "66ad2a0fc99eef4a3bf89b375e9b9756c86124817c17e26a015d4a0d647e591d"
  },
  "kernelspec": {
   "display_name": "Python 3.9.6 64-bit",
   "language": "python",
   "name": "python3"
  },
  "language_info": {
   "codemirror_mode": {
    "name": "ipython",
    "version": 3
   },
   "file_extension": ".py",
   "mimetype": "text/x-python",
   "name": "python",
   "nbconvert_exporter": "python",
   "pygments_lexer": "ipython3",
   "version": "3.9.6"
  },
  "orig_nbformat": 4
 },
 "nbformat": 4,
 "nbformat_minor": 2
}
