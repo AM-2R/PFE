{
  "cells": [
    {
      "cell_type": "code",
      "execution_count": 89,
      "metadata": {
        "id": "3oeVKFMFhK8f"
      },
      "outputs": [],
      "source": [
        "from collections import deque\n",
        "import numpy as np\n",
        "import csv\n",
        "from pulp import *\n",
        "from pulp import GLPK\n",
        "import math"
      ]
    },
    {
      "cell_type": "code",
      "execution_count": 90,
      "metadata": {
        "id": "Eq2Crl4HhK9w"
      },
      "outputs": [
        {
          "data": {
            "text/plain": [
              "\"def dsatur(g):\\n    n = np.shape(g)[0]\\n    couleur = n*[0]\\n    \\n    #liste des sommets par ordre de degrés décroissants\\n    sommets_ord = tri_degre(Adj,True)\\n    \\n       \\n    #tant qu'il y a des sommets sans couleur    \\n    while 0 in couleur:\\n   \\n        #recherche du sommet à colorer, de degré de saturation maximum\\n        dsat = n*[0]\\n        degre_sat_max = 0\\n        sommetchoisi = sommets_ord[0]\\n        \\n        for i in sommets_ord:\\n            \\n            #si le sommet i est sans couleur\\n            if couleur[i]==0:\\n\\n                vois = voisins(g,i)\\n               \\n                #calcul du degré de saturation du sommet i\\n                couleurvois = []\\n                for k in vois:\\n                    if couleur[k]>0:\\n                        couleurvois = couleurvois+[couleur[k]]\\n                dsat[i] = len(np.unique(couleurvois))\\n                \\n                #le sommet i est-il de degre de saturation maximum ?\\n                if dsat[i]>degre_sat_max :\\n                    degre_sat_max = dsat[i]\\n                    sommetchoisi = i\\n        \\n        #couleur des voisins du sommet choisi\\n        vois_sommetchoisi = voisins(g,sommetchoisi)\\n        couleurvois_sommetchoisi = []    \\n        for k in vois_sommetchoisi:\\n            couleurvois_sommetchoisi = couleurvois_sommetchoisi+[couleur[k]]        \\n        \\n        #choix de la plus petite couleur non présente chez les voisins du sommet choisi\\n        j=1\\n        while j in couleurvois_sommetchoisi:\\n            j=j+1\\n            \\n        #coloration du sommet choisi avec la couleur trouvée ci-dessus\\n        couleur[sommetchoisi]=j\\n\\n    return couleur\""
            ]
          },
          "execution_count": 90,
          "metadata": {},
          "output_type": "execute_result"
        }
      ],
      "source": [
        "def dsatur(g):\n",
        "    n = np.shape(g)[0]\n",
        "    couleur = n*[0]\n",
        "    \n",
        "    #liste des sommets par ordre de degrés décroissants\n",
        "    sommets_ord = tri_degre(Adj,True)\n",
        "    \n",
        "       \n",
        "    #tant qu'il y a des sommets sans couleur    \n",
        "    while 0 in couleur:\n",
        "   \n",
        "        #recherche du sommet à colorer, de degré de saturation maximum\n",
        "        dsat = n*[0]\n",
        "        degre_sat_max = 0\n",
        "        sommetchoisi = sommets_ord[0]\n",
        "        \n",
        "        for i in sommets_ord:\n",
        "            \n",
        "            #si le sommet i est sans couleur\n",
        "            if couleur[i]==0:\n",
        "\n",
        "                vois = voisins(g,i)\n",
        "               \n",
        "                #calcul du degré de saturation du sommet i\n",
        "                couleurvois = []\n",
        "                for k in vois:\n",
        "                    if couleur[k]>0:\n",
        "                        couleurvois = couleurvois+[couleur[k]]\n",
        "                dsat[i] = len(np.unique(couleurvois))\n",
        "                \n",
        "                #le sommet i est-il de degre de saturation maximum ?\n",
        "                if dsat[i]>degre_sat_max :\n",
        "                    degre_sat_max = dsat[i]\n",
        "                    sommetchoisi = i\n",
        "        \n",
        "        #couleur des voisins du sommet choisi\n",
        "        vois_sommetchoisi = voisins(g,sommetchoisi)\n",
        "        couleurvois_sommetchoisi = []    \n",
        "        for k in vois_sommetchoisi:\n",
        "            couleurvois_sommetchoisi = couleurvois_sommetchoisi+[couleur[k]]        \n",
        "        \n",
        "        #choix de la plus petite couleur non présente chez les voisins du sommet choisi\n",
        "        j=1\n",
        "        while j in couleurvois_sommetchoisi:\n",
        "            j=j+1\n",
        "            \n",
        "        #coloration du sommet choisi avec la couleur trouvée ci-dessus\n",
        "        couleur[sommetchoisi]=j\n",
        "\n",
        "    return couleur"
      ]
    },
    {
      "cell_type": "code",
      "execution_count": 108,
      "metadata": {},
      "outputs": [],
      "source": [
        "def WP(LA):\n",
        "    n=len(LA)\n",
        "    # CONSTRUCTION DE LA MATRICE D'ADJACENCE\n",
        "    M = matriceAdj(LA)\n",
        "    \n",
        "    # INITIALISATION DE LA LISTE DES DEGRES\n",
        "    D = []\n",
        "    # CONSTRUCTION DE LA LISTE DES DEGRES\n",
        "    for i in range(n):\n",
        "        d = 0\n",
        "        # On balaie chaque ligne de la matrice d'adjacence\n",
        "        for j in range(n):\n",
        "            # Si un coefficient de la ligne est non nul, on incrÃ©mente d\n",
        "            if M[i,j] != 0:\n",
        "                d += 1\n",
        "        D.append([i,d])\n",
        "    \n",
        "    # TRI DE LA LISTE DES DEGRES (DANS L'ORDRE DECROISSANT)\n",
        "    D.sort(key=lambda degre: degre[1])\n",
        "    D.reverse()\n",
        "    \n",
        "    # COLORATION\n",
        "    # Initialisation de l'indice des couleurs\n",
        "    C = 0\n",
        "    # Initialisation du nombre de sommets coloriÃ©s\n",
        "    ColoredVertices = 0\n",
        "    # Boucle principale : on balaie D tant qu'il reste au moins un sommet Ã ...\n",
        "    # colorier !\n",
        "    while ColoredVertices < len(D):\n",
        "        for i in range(len(D)):\n",
        "            # On ne s'interesse qu'aux sommets non encore colories\n",
        "            if len(D[i]) == 2:\n",
        "                # Le sommet est potentiellement coloriable dans la couleur\n",
        "                # courante\n",
        "                ColPoss = True\n",
        "                # Pour tous les sommets prÃ©cÃ©dant le sommet courant dans la\n",
        "                # liste D...\n",
        "                for j in range(i):\n",
        "                    # Si le sommet d'indice j<i dans D est deja  colorie avec la\n",
        "                    # couleur C et adjacent au sommet d'indice i dans D alors\n",
        "                    # le sommet d'indice i dans D ne peut etre colorie avec C et\n",
        "                    # on va passer au sommet suivant dans D sans rien faire.\n",
        "                    if len(D[j]) == 3 and D[j][2] == C and M[D[i][0],D[j][0]] == 1:\n",
        "                        ColPoss = False\n",
        "                        break\n",
        "                # Si on est dans une situation favorable, on colorie le sommet\n",
        "                # d'indice i dans D avec la couleur courante.\n",
        "                if ColPoss:\n",
        "                    D[i].append(C)\n",
        "                    ColoredVertices += 1\n",
        "        # La liste D a ete balayee, on passe a  la couleur suivante...\n",
        "        C +=1\n",
        "    # Affichage des rzsultats\n",
        "    print(\"Nombre de couleurs utilsÃ©es :\",C)\n",
        "    print(\"Sommets ayant la mÃªme couleur :\")\n",
        "    for i in range(C):\n",
        "        s = \"couleur \" + str(i) + \" : \"\n",
        "        for e in D:\n",
        "            if e[2] == i:\n",
        "                s += str(e[0]) + \" \"\n",
        "        print(s)\n"
      ]
    },
    {
      "cell_type": "code",
      "execution_count": 92,
      "metadata": {
        "id": "WSqn17W0hK9C"
      },
      "outputs": [],
      "source": [
        "\n",
        "\n",
        "### Affichage de graphes, avec GraphViz\n",
        "\n",
        "import numpy as np\n",
        "from graphviz import Digraph, Graph\n",
        "import matplotlib\n",
        "import matplotlib.cm\n",
        "# Fonction d'affichage d'un graphe a  partir d'une matrice d'adjacence\n",
        "# M : matrice d'adjacence avec ou sans les poids (matrice numpy)\n",
        "# directed : bool indiquant si le graphe est oriente ou non\n",
        "# weighted : bool indiquant si les arcs du graphe sont pondere ou non\n",
        "# label : si None les labels seront 0, 1, 2,..., n-1\n",
        "# color : vecteur d'entiers contenant le numero associe a  la couleur\n",
        "# title : nom du graphe\n",
        "# view : bool qui determine l'ouverture d'une fenÃªtre de visualisation de l'image\n",
        "# dispo : disposition des sommets. \n",
        "def display(M, directed = True, weighted = False, label = None, color = None, title = \"G\", view = False, dispo=\"neato\"):\n",
        "    # Nombre de sommets\n",
        "    n = M.shape[0]\n",
        "    # Labels des sommets\n",
        "    if label == None:\n",
        "        label = [str(i) for i in range(0, n)]\n",
        "    # Couleur des sommets\n",
        "    if color==None:\n",
        "        lcol = [(1.,1.,1.,1.)]*n\n",
        "    else:\n",
        "        cm = matplotlib.cm.get_cmap('gist_rainbow')\n",
        "        nbcol = max(color)\n",
        "        lcol = [cm(1.*x/nbcol) if x!=0 else (1.,1.,1.,1.) for x in color]\n",
        "    # Initialisation du graphe\n",
        "    if directed == True:\n",
        "        t = Digraph(title, engine = dispo, format = 'svg')\n",
        "    else:\n",
        "        t = Graph(title, engine = dispo, format = 'svg')\n",
        "    # Attibuts graphiques\n",
        "    t.attr('graph', overlap = 'false', fontsize = '16', label = title, bgcolor = \"#ffffff00\",fontcolor=\"grey\")\n",
        "    t.attr('node', shape = 'circle', fixedsize = 'true', width = '0.4', fontsize = '14', style = \"filled\", color = 'grey')\n",
        "    t.attr('edge', arrowsize = '0.7', fontsize = '12',color=\"grey\",fontcolor=\"grey\")\n",
        "    # Ajout des sommets\n",
        "    for i in range(0,M.shape[0]):\n",
        "        #t.attr('node', fillcolor = \"%f, %f, %f, %f\" % lcol[i])\n",
        "        t.attr('node', fillcolor = matplotlib.colors.to_hex(lcol[i], keep_alpha=False))\n",
        "        t.node(str(label[i]))\n",
        "    # Ajout des arcs (depend du type de matrice fournie : adjacence ou matrice de poids alacoutant)\n",
        "    if weighted == False:\n",
        "        for i in range(0,M.shape[0]):\n",
        "            for j in range(0 if directed else i, M.shape[0]):\n",
        "                if M[i,j]>0:\n",
        "                    t.edge(str(label[i]),str(label[j]))\n",
        "    else:\n",
        "        for i in range(0,M.shape[0]):\n",
        "            for j in range(0 if directed else i, M.shape[0]):\n",
        "                if M[i,j]<float(\"inf\"):\n",
        "                    t.edge(str(label[i]),str(label[j]),label = str(M[i,j]))\n",
        "    # Affichage\n",
        "    if(view):\n",
        "        t.view()\n",
        "    else:\n",
        "        t.render('output/'+title+'.gv', view=view)\n",
        "    # Retour\n",
        "    return(t)\n",
        "\n"
      ]
    },
    {
      "cell_type": "code",
      "execution_count": 93,
      "metadata": {
        "id": "cNdaoWGThK9L"
      },
      "outputs": [],
      "source": [
        "def   listAdj(M):\n",
        "    listAdj=[]\n",
        "    for i in range(len(M)):\n",
        "        listAdj.append([])\n",
        "        for j in [x for x in range(len(M)) if x != i]:\n",
        "            if (int(M[i][0])<=int(M[j][0]) and int(M[i][1])>=int(M[j][0])) or (int(M[i][0])<=int(M[j][1]) and int(M[i][1])>=int(M[j][1])) or (int(M[j][0])<=int(M[i][0]) and int(M[j][1])>=int(M[j][0])) :\n",
        "                listAdj[i].append(j)\n",
        "    return listAdj"
      ]
    },
    {
      "cell_type": "code",
      "execution_count": 94,
      "metadata": {
        "colab": {
          "base_uri": "https://localhost:8080/"
        },
        "id": "uOHJsj95hK9e",
        "outputId": "dc257c5e-6f46-4507-e395-d8c1adcb0798"
      },
      "outputs": [],
      "source": [
        "def matriceAdj(Adj):\n",
        "    Mat=[]\n",
        "    for i in range( len(Adj)):\n",
        "        Mat.append([])\n",
        "        for j in range( len(Adj)):\n",
        "            Mat[i].append(0)\n",
        "            for k in range(len(Adj[i])):\n",
        "                if j==Adj[i][k]:\n",
        "                    Mat[i][j]=1\n",
        "    return Mat\n",
        "\n"
      ]
    },
    {
      "cell_type": "code",
      "execution_count": 95,
      "metadata": {},
      "outputs": [],
      "source": [
        "def arret(M):\n",
        "    ex=[[],[]]\n",
        "    for i in range (len(M)-1):\n",
        "        for j in range(i+1,len(M)):\n",
        "            if M[i][j]==1:\n",
        "                ex[0].append(i)\n",
        "                ex[1].append(j)\n",
        "    return ex\n"
      ]
    },
    {
      "cell_type": "code",
      "execution_count": 96,
      "metadata": {
        "colab": {
          "base_uri": "https://localhost:8080/"
        },
        "id": "VNH4OPIhhK9j",
        "outputId": "0e3739d0-a154-414e-e03a-79dc26659d20"
      },
      "outputs": [],
      "source": [
        "def tri_degre(M1,Bool):\n",
        "    tri=[]\n",
        "    sortemat = sorted(M1, key=len,reverse=Bool)\n",
        "    for i in range(len(sortemat)):\n",
        "        for j in range(len(sortemat)):\n",
        "            if sortemat[i]==M1[j]:\n",
        "                tri.append(j)\n",
        "                break\n",
        "    tri=np.array(tri)\n",
        "    return tri"
      ]
    },
    {
      "cell_type": "code",
      "execution_count": 97,
      "metadata": {
        "colab": {
          "base_uri": "https://localhost:8080/",
          "height": 235
        },
        "id": "muUiLd38hK9V",
        "outputId": "8e851cfe-c792-4172-d239-b072ef2a5587"
      },
      "outputs": [
        {
          "data": {
            "text/plain": [
              "'file = open(\"essie2.csv\", \"r\")\\ncsv_reader = csv.reader(file)\\n\\nlists_from_csv = []\\nfor row in csv_reader:\\n    lists_from_csv.append(row)\\n\\n\\nprint(lists_from_csv)'"
            ]
          },
          "execution_count": 97,
          "metadata": {},
          "output_type": "execute_result"
        }
      ],
      "source": [
        "\"\"\"file = open(\"essie2.csv\", \"r\")\n",
        "csv_reader = csv.reader(file)\n",
        "\n",
        "lists_from_csv = []\n",
        "for row in csv_reader:\n",
        "    lists_from_csv.append(row)\n",
        "\n",
        "\n",
        "print(lists_from_csv)\"\"\""
      ]
    },
    {
      "cell_type": "code",
      "execution_count": null,
      "metadata": {},
      "outputs": [],
      "source": []
    },
    {
      "cell_type": "code",
      "execution_count": 98,
      "metadata": {
        "colab": {
          "base_uri": "https://localhost:8080/",
          "height": 165
        },
        "id": "g4P8VYOKhK9c",
        "outputId": "2d3557d1-198e-49e3-92a1-85a95b9c9534"
      },
      "outputs": [
        {
          "name": "stderr",
          "output_type": "stream",
          "text": [
            "C:\\Users\\pc\\AppData\\Local\\Temp/ipykernel_28272/3667258001.py:1: VisibleDeprecationWarning: Creating an ndarray from ragged nested sequences (which is a list-or-tuple of lists-or-tuples-or ndarrays with different lengths or shapes) is deprecated. If you meant to do this, you must specify 'dtype=object' when creating the ndarray.\n",
            "  Adj = np.array(HA)\n"
          ]
        }
      ],
      "source": [
        "Adj = np.array(HA)\n",
        "Adj=listAdj(Adj)\n",
        "Adj=[[1,2,3,6],[0,4,5],[0,6],[0,6],[1,5,7],[1,4,7],[0,2,3,7],[4,5,6]]"
      ]
    },
    {
      "cell_type": "code",
      "execution_count": 99,
      "metadata": {},
      "outputs": [
        {
          "name": "stdout",
          "output_type": "stream",
          "text": [
            "[[0, 1, 1, 1, 0, 0, 1, 0], [1, 0, 0, 0, 1, 1, 0, 0], [1, 0, 0, 0, 0, 0, 1, 0], [1, 0, 0, 0, 0, 0, 1, 0], [0, 1, 0, 0, 0, 1, 0, 1], [0, 1, 0, 0, 1, 0, 0, 1], [1, 0, 1, 1, 0, 0, 0, 1], [0, 0, 0, 0, 1, 1, 1, 0]]\n"
          ]
        }
      ],
      "source": [
        "Mat=matriceAdj(Adj)\n",
        "\n",
        "print (Mat)"
      ]
    },
    {
      "cell_type": "code",
      "execution_count": 100,
      "metadata": {},
      "outputs": [
        {
          "name": "stdout",
          "output_type": "stream",
          "text": [
            "ex1=  [0, 0, 0, 0, 1, 1, 2, 3, 4, 4, 5, 6]\n",
            "ex2=  [1, 2, 3, 6, 4, 5, 6, 6, 5, 7, 7, 7]\n"
          ]
        }
      ],
      "source": [
        "Ex=arret(Mat)\n",
        "print(\"ex1= \",Ex[0])\n",
        "print(\"ex2= \",Ex[1])"
      ]
    },
    {
      "cell_type": "code",
      "execution_count": 101,
      "metadata": {
        "id": "f8NuerBjhK9f"
      },
      "outputs": [],
      "source": [
        "Mat= np.array(Mat)"
      ]
    },
    {
      "cell_type": "code",
      "execution_count": 102,
      "metadata": {
        "colab": {
          "base_uri": "https://localhost:8080/",
          "height": 1000
        },
        "id": "LZCCFdndhK9g",
        "outputId": "4fbb54bc-0b37-40c3-a6da-027efc7eeb68"
      },
      "outputs": [
        {
          "data": {
            "image/svg+xml": "<?xml version=\"1.0\" encoding=\"UTF-8\" standalone=\"no\"?>\n<!DOCTYPE svg PUBLIC \"-//W3C//DTD SVG 1.1//EN\"\n \"http://www.w3.org/Graphics/SVG/1.1/DTD/svg11.dtd\">\n<!-- Generated by graphviz version 3.0.0 (20220226.1711)\n -->\n<!-- Title: Gblanc Pages: 1 -->\n<svg width=\"190pt\" height=\"266pt\"\n viewBox=\"0.00 0.00 189.56 266.04\" xmlns=\"http://www.w3.org/2000/svg\" xmlns:xlink=\"http://www.w3.org/1999/xlink\">\n<g id=\"graph0\" class=\"graph\" transform=\"scale(1 1) rotate(0) translate(4 262.04)\">\n<title>Gblanc</title>\n<polygon fill=\"transparent\" stroke=\"transparent\" points=\"-4,4 -4,-262.04 185.56,-262.04 185.56,4 -4,4\"/>\n<text text-anchor=\"middle\" x=\"90.78\" y=\"-9.2\" font-family=\"Times New Roman,serif\" font-size=\"16.00\" fill=\"grey\">Gblanc</text>\n<!-- 0 -->\n<g id=\"node1\" class=\"node\">\n<title>0</title>\n<ellipse fill=\"#ffffff\" stroke=\"grey\" cx=\"75.45\" cy=\"-96.62\" rx=\"14.5\" ry=\"14.5\"/>\n<text text-anchor=\"middle\" x=\"75.45\" y=\"-92.92\" font-family=\"Times New Roman,serif\" font-size=\"14.00\">0</text>\n</g>\n<!-- 1 -->\n<g id=\"node2\" class=\"node\">\n<title>1</title>\n<ellipse fill=\"#ffffff\" stroke=\"grey\" cx=\"22.88\" cy=\"-157.18\" rx=\"14.5\" ry=\"14.5\"/>\n<text text-anchor=\"middle\" x=\"22.88\" y=\"-153.48\" font-family=\"Times New Roman,serif\" font-size=\"14.00\">1</text>\n</g>\n<!-- 0&#45;&#45;1 -->\n<g id=\"edge1\" class=\"edge\">\n<title>0&#45;&#45;1</title>\n<path fill=\"none\" stroke=\"grey\" d=\"M65.81,-107.73C56.32,-118.65 41.93,-135.24 32.46,-146.14\"/>\n</g>\n<!-- 2 -->\n<g id=\"node3\" class=\"node\">\n<title>2</title>\n<ellipse fill=\"#ffffff\" stroke=\"grey\" cx=\"96.42\" cy=\"-40.5\" rx=\"14.5\" ry=\"14.5\"/>\n<text text-anchor=\"middle\" x=\"96.42\" y=\"-36.8\" font-family=\"Times New Roman,serif\" font-size=\"14.00\">2</text>\n</g>\n<!-- 0&#45;&#45;2 -->\n<g id=\"edge2\" class=\"edge\">\n<title>0&#45;&#45;2</title>\n<path fill=\"none\" stroke=\"grey\" d=\"M80.53,-83.03C83.78,-74.34 87.98,-63.09 91.25,-54.35\"/>\n</g>\n<!-- 3 -->\n<g id=\"node4\" class=\"node\">\n<title>3</title>\n<ellipse fill=\"#ffffff\" stroke=\"grey\" cx=\"167.06\" cy=\"-80.87\" rx=\"14.5\" ry=\"14.5\"/>\n<text text-anchor=\"middle\" x=\"167.06\" y=\"-77.17\" font-family=\"Times New Roman,serif\" font-size=\"14.00\">3</text>\n</g>\n<!-- 0&#45;&#45;3 -->\n<g id=\"edge3\" class=\"edge\">\n<title>0&#45;&#45;3</title>\n<path fill=\"none\" stroke=\"grey\" d=\"M89.76,-94.16C106.87,-91.22 135.35,-86.32 152.55,-83.37\"/>\n</g>\n<!-- 6 -->\n<g id=\"node7\" class=\"node\">\n<title>6</title>\n<ellipse fill=\"#ffffff\" stroke=\"grey\" cx=\"128.98\" cy=\"-126.53\" rx=\"14.5\" ry=\"14.5\"/>\n<text text-anchor=\"middle\" x=\"128.98\" y=\"-122.83\" font-family=\"Times New Roman,serif\" font-size=\"14.00\">6</text>\n</g>\n<!-- 0&#45;&#45;6 -->\n<g id=\"edge4\" class=\"edge\">\n<title>0&#45;&#45;6</title>\n<path fill=\"none\" stroke=\"grey\" d=\"M88.13,-103.71C96.54,-108.41 107.54,-114.56 116.01,-119.29\"/>\n</g>\n<!-- 4 -->\n<g id=\"node5\" class=\"node\">\n<title>4</title>\n<ellipse fill=\"#ffffff\" stroke=\"grey\" cx=\"59.46\" cy=\"-243.54\" rx=\"14.5\" ry=\"14.5\"/>\n<text text-anchor=\"middle\" x=\"59.46\" y=\"-239.84\" font-family=\"Times New Roman,serif\" font-size=\"14.00\">4</text>\n</g>\n<!-- 1&#45;&#45;4 -->\n<g id=\"edge5\" class=\"edge\">\n<title>1&#45;&#45;4</title>\n<path fill=\"none\" stroke=\"grey\" d=\"M28.6,-170.68C35.47,-186.9 46.93,-213.96 53.79,-230.14\"/>\n</g>\n<!-- 5 -->\n<g id=\"node6\" class=\"node\">\n<title>5</title>\n<ellipse fill=\"#ffffff\" stroke=\"grey\" cx=\"14.5\" cy=\"-218.98\" rx=\"14.5\" ry=\"14.5\"/>\n<text text-anchor=\"middle\" x=\"14.5\" y=\"-215.28\" font-family=\"Times New Roman,serif\" font-size=\"14.00\">5</text>\n</g>\n<!-- 1&#45;&#45;5 -->\n<g id=\"edge6\" class=\"edge\">\n<title>1&#45;&#45;5</title>\n<path fill=\"none\" stroke=\"grey\" d=\"M20.9,-171.83C19.56,-181.68 17.81,-194.61 16.47,-204.44\"/>\n</g>\n<!-- 2&#45;&#45;6 -->\n<g id=\"edge7\" class=\"edge\">\n<title>2&#45;&#45;6</title>\n<path fill=\"none\" stroke=\"grey\" d=\"M101.65,-54.32C107.73,-70.38 117.69,-96.71 123.76,-112.75\"/>\n</g>\n<!-- 3&#45;&#45;6 -->\n<g id=\"edge8\" class=\"edge\">\n<title>3&#45;&#45;6</title>\n<path fill=\"none\" stroke=\"grey\" d=\"M157.45,-92.4C151.64,-99.37 144.25,-108.23 138.45,-115.17\"/>\n</g>\n<!-- 4&#45;&#45;5 -->\n<g id=\"edge9\" class=\"edge\">\n<title>4&#45;&#45;5</title>\n<path fill=\"none\" stroke=\"grey\" d=\"M46.7,-236.57C40.67,-233.28 33.5,-229.36 27.45,-226.05\"/>\n</g>\n<!-- 7 -->\n<g id=\"node8\" class=\"node\">\n<title>7</title>\n<ellipse fill=\"#ffffff\" stroke=\"grey\" cx=\"106.93\" cy=\"-203.4\" rx=\"14.5\" ry=\"14.5\"/>\n<text text-anchor=\"middle\" x=\"106.93\" y=\"-199.7\" font-family=\"Times New Roman,serif\" font-size=\"14.00\">7</text>\n</g>\n<!-- 4&#45;&#45;7 -->\n<g id=\"edge10\" class=\"edge\">\n<title>4&#45;&#45;7</title>\n<path fill=\"none\" stroke=\"grey\" d=\"M70.95,-233.83C78.42,-227.52 88.1,-219.32 95.55,-213.03\"/>\n</g>\n<!-- 5&#45;&#45;7 -->\n<g id=\"edge11\" class=\"edge\">\n<title>5&#45;&#45;7</title>\n<path fill=\"none\" stroke=\"grey\" d=\"M28.94,-216.54C46.31,-213.62 75.27,-208.74 92.59,-205.82\"/>\n</g>\n<!-- 6&#45;&#45;7 -->\n<g id=\"edge12\" class=\"edge\">\n<title>6&#45;&#45;7</title>\n<path fill=\"none\" stroke=\"grey\" d=\"M124.93,-140.63C120.96,-154.5 114.92,-175.55 110.95,-189.39\"/>\n</g>\n</g>\n</svg>\n",
            "text/plain": [
              "<graphviz.graphs.Graph at 0x228d2991d00>"
            ]
          },
          "execution_count": 102,
          "metadata": {},
          "output_type": "execute_result"
        }
      ],
      "source": [
        "display(Mat,directed=False,title=\"Gblanc\")"
      ]
    },
    {
      "cell_type": "code",
      "execution_count": 103,
      "metadata": {},
      "outputs": [],
      "source": [
        "model = LpProblem(name=\"Aeroport\", sense=LpMinimize)\n",
        "routes =[(i,j) for i in range(c) for j in  range(n)]\n",
        "# Define the decision variables\n",
        "x = {LpVariable(\"les conducteur\",(c,n))}\n",
        "v = {LpVariable(\"les jobs\", (c) )}\n",
        "y = {LpVariable(name=f\"y\") }\n",
        "\n",
        "# Add constraints\n",
        "for i in range (c):\n",
        "   model+= (lpSum(x[i][j] for j in range(n)))==1,\n",
        "\n",
        "for i in range(c):\n",
        "   for k in range(len(ex[0])):\n",
        "      model+= (x[i,ex[0][k]]+x[i,ex[1][k]])<=1,\n",
        "\n",
        "for j in range(n):\n",
        "   model+= (v[i]==lpSum(x[i][j] for i in range(c) )),\n",
        "\n",
        "for i in range(c):\n",
        "      model+= (v[i]<=y ),\n",
        "\n",
        "# Set objective\n",
        "\n",
        "model += y,\n",
        "# Solve the optimization problem using GLPK\n",
        "\n",
        "status = model.solve(solver=GLPK(msg=False)) \n",
        "   # The status of the solution is printed to the screen\n",
        "print(\"Status:\", LpStatus[model.status])\n",
        "   \n",
        "return model.objective.value()\n",
        "\n"
      ]
    },
    {
      "cell_type": "code",
      "execution_count": 104,
      "metadata": {},
      "outputs": [],
      "source": [
        "#print(modelGLPK(6,len(Mat),Ex))"
      ]
    },
    {
      "cell_type": "code",
      "execution_count": 105,
      "metadata": {},
      "outputs": [
        {
          "ename": "IndentationError",
          "evalue": "unexpected indent (Temp/ipykernel_28272/2970043339.py, line 8)",
          "output_type": "error",
          "traceback": [
            "\u001b[1;36m  File \u001b[1;32m\"C:\\Users\\pc\\AppData\\Local\\Temp/ipykernel_28272/2970043339.py\"\u001b[1;36m, line \u001b[1;32m8\u001b[0m\n\u001b[1;33m    x = LpVariable(\"les conducteur\",for (i,j) in routes)\u001b[0m\n\u001b[1;37m    ^\u001b[0m\n\u001b[1;31mIndentationError\u001b[0m\u001b[1;31m:\u001b[0m unexpected indent\n"
          ]
        }
      ],
      "source": [
        "def modelGLPK(c,M,ex):\n",
        "   n=len(M)\n",
        "   #Set Problem Variable\n",
        "   prob = LpProblem(\"Transportation\", LpMinimize)\n",
        "   routes =[(i,j) for i in c for j in  n]\n",
        "\n",
        "   # Define the decision variables\n",
        "      x = LpVariable(\"les conducteur\",for (i,j) in routes)\n",
        "      v = LpVariable{\"les missions\",for i in range(c)}\n",
        "      y = LpVariable(\"fct\", lowBound=0)\n",
        "\n",
        "   #OBJECTIVE FUNCTION\n",
        "   prob += y\n",
        "   #CONSTRAINTS:\n",
        "   # Add constraints\n",
        "      for i in range (c):\n",
        "         prob += (lpSum(x[i][j]==1 for j in range(n) )),\n",
        "\n",
        "      for i in range(c):\n",
        "         for k in range(len(ex[0])):\n",
        "            prob += (x[i,ex[0][k]]+x[i,ex[1][k]]<=1),\n",
        "\n",
        "      for j in range(n):\n",
        "         prob += (v[i]==lpSum(x[i][j] for i in range(c) )),\n",
        "\n",
        "      for i in range(c):\n",
        "         model+= (v[i]<=y ),\n",
        "   prob.solve()\n",
        "   print(\"Status:\", LpStatus [prob.status])\n",
        "   for v in prob.variables():\n",
        "      if v. varValue> 0:\n",
        "         print(v.name,\"=\",v.varValue)\n",
        "   print(\"Total bushel-miles =\", value(prob.objective))"
      ]
    },
    {
      "cell_type": "code",
      "execution_count": 110,
      "metadata": {},
      "outputs": [
        {
          "ename": "TypeError",
          "evalue": "list indices must be integers or slices, not tuple",
          "output_type": "error",
          "traceback": [
            "\u001b[1;31m---------------------------------------------------------------------------\u001b[0m",
            "\u001b[1;31mTypeError\u001b[0m                                 Traceback (most recent call last)",
            "\u001b[1;32m~\\AppData\\Local\\Temp/ipykernel_28272/3048268492.py\u001b[0m in \u001b[0;36m<module>\u001b[1;34m\u001b[0m\n\u001b[1;32m----> 1\u001b[1;33m \u001b[0mWP\u001b[0m\u001b[1;33m(\u001b[0m\u001b[0mAdj\u001b[0m\u001b[1;33m)\u001b[0m\u001b[1;33m\u001b[0m\u001b[1;33m\u001b[0m\u001b[0m\n\u001b[0m",
            "\u001b[1;32m~\\AppData\\Local\\Temp/ipykernel_28272/1538219854.py\u001b[0m in \u001b[0;36mWP\u001b[1;34m(LA)\u001b[0m\n\u001b[0;32m     12\u001b[0m         \u001b[1;32mfor\u001b[0m \u001b[0mj\u001b[0m \u001b[1;32min\u001b[0m \u001b[0mrange\u001b[0m\u001b[1;33m(\u001b[0m\u001b[0mn\u001b[0m\u001b[1;33m)\u001b[0m\u001b[1;33m:\u001b[0m\u001b[1;33m\u001b[0m\u001b[1;33m\u001b[0m\u001b[0m\n\u001b[0;32m     13\u001b[0m             \u001b[1;31m# Si un coefficient de la ligne est non nul, on incrÃ©mente d\u001b[0m\u001b[1;33m\u001b[0m\u001b[1;33m\u001b[0m\u001b[1;33m\u001b[0m\u001b[0m\n\u001b[1;32m---> 14\u001b[1;33m             \u001b[1;32mif\u001b[0m \u001b[0mM\u001b[0m\u001b[1;33m[\u001b[0m\u001b[0mi\u001b[0m\u001b[1;33m,\u001b[0m\u001b[0mj\u001b[0m\u001b[1;33m]\u001b[0m \u001b[1;33m!=\u001b[0m \u001b[1;36m0\u001b[0m\u001b[1;33m:\u001b[0m\u001b[1;33m\u001b[0m\u001b[1;33m\u001b[0m\u001b[0m\n\u001b[0m\u001b[0;32m     15\u001b[0m                 \u001b[0md\u001b[0m \u001b[1;33m+=\u001b[0m \u001b[1;36m1\u001b[0m\u001b[1;33m\u001b[0m\u001b[1;33m\u001b[0m\u001b[0m\n\u001b[0;32m     16\u001b[0m         \u001b[0mD\u001b[0m\u001b[1;33m.\u001b[0m\u001b[0mappend\u001b[0m\u001b[1;33m(\u001b[0m\u001b[1;33m[\u001b[0m\u001b[0mi\u001b[0m\u001b[1;33m,\u001b[0m\u001b[0md\u001b[0m\u001b[1;33m]\u001b[0m\u001b[1;33m)\u001b[0m\u001b[1;33m\u001b[0m\u001b[1;33m\u001b[0m\u001b[0m\n",
            "\u001b[1;31mTypeError\u001b[0m: list indices must be integers or slices, not tuple"
          ]
        }
      ],
      "source": [
        "WP(Adj)"
      ]
    },
    {
      "cell_type": "code",
      "execution_count": null,
      "metadata": {
        "id": "yVghXVy8hK9x"
      },
      "outputs": [
        {
          "ename": "KeyboardInterrupt",
          "evalue": "",
          "output_type": "error",
          "traceback": [
            "\u001b[1;31m---------------------------------------------------------------------------\u001b[0m",
            "\u001b[1;31mKeyboardInterrupt\u001b[0m                         Traceback (most recent call last)",
            "\u001b[1;32m~\\AppData\\Local\\Temp/ipykernel_28272/3378607406.py\u001b[0m in \u001b[0;36m<module>\u001b[1;34m\u001b[0m\n\u001b[1;32m----> 1\u001b[1;33m \u001b[0mdisplay\u001b[0m\u001b[1;33m(\u001b[0m\u001b[0mMat\u001b[0m\u001b[1;33m,\u001b[0m\u001b[0mdirected\u001b[0m\u001b[1;33m=\u001b[0m\u001b[1;32mFalse\u001b[0m\u001b[1;33m,\u001b[0m\u001b[0mtitle\u001b[0m\u001b[1;33m=\u001b[0m\u001b[1;34m\"DSATUR_G2\"\u001b[0m\u001b[1;33m,\u001b[0m\u001b[0mdispo\u001b[0m\u001b[1;33m=\u001b[0m\u001b[1;34m\"neato\"\u001b[0m\u001b[1;33m,\u001b[0m\u001b[0mcolor\u001b[0m \u001b[1;33m=\u001b[0m \u001b[0mdsatur\u001b[0m\u001b[1;33m(\u001b[0m\u001b[0mMat\u001b[0m\u001b[1;33m)\u001b[0m\u001b[1;33m)\u001b[0m\u001b[1;33m\u001b[0m\u001b[1;33m\u001b[0m\u001b[0m\n\u001b[0m",
            "\u001b[1;32m~\\AppData\\Local\\Temp/ipykernel_28272/3983700914.py\u001b[0m in \u001b[0;36mdsatur\u001b[1;34m(g)\u001b[0m\n\u001b[0;32m     35\u001b[0m \u001b[1;33m\u001b[0m\u001b[0m\n\u001b[0;32m     36\u001b[0m         \u001b[1;31m#couleur des voisins du sommet choisi\u001b[0m\u001b[1;33m\u001b[0m\u001b[1;33m\u001b[0m\u001b[1;33m\u001b[0m\u001b[0m\n\u001b[1;32m---> 37\u001b[1;33m         \u001b[0mvois_sommetchoisi\u001b[0m \u001b[1;33m=\u001b[0m \u001b[0mvoisins\u001b[0m\u001b[1;33m(\u001b[0m\u001b[0mg\u001b[0m\u001b[1;33m,\u001b[0m\u001b[0msommetchoisi\u001b[0m\u001b[1;33m)\u001b[0m\u001b[1;33m\u001b[0m\u001b[1;33m\u001b[0m\u001b[0m\n\u001b[0m\u001b[0;32m     38\u001b[0m         \u001b[0mcouleurvois_sommetchoisi\u001b[0m \u001b[1;33m=\u001b[0m \u001b[1;33m[\u001b[0m\u001b[1;33m]\u001b[0m\u001b[1;33m\u001b[0m\u001b[1;33m\u001b[0m\u001b[0m\n\u001b[0;32m     39\u001b[0m         \u001b[1;32mfor\u001b[0m \u001b[0mk\u001b[0m \u001b[1;32min\u001b[0m \u001b[0mvois_sommetchoisi\u001b[0m\u001b[1;33m:\u001b[0m\u001b[1;33m\u001b[0m\u001b[1;33m\u001b[0m\u001b[0m\n",
            "\u001b[1;31mKeyboardInterrupt\u001b[0m: "
          ]
        }
      ],
      "source": [
        "display(Mat,directed=False,title=\"DSATUR_G2\",dispo=\"neato\",color = dsatur(Mat))"
      ]
    }
  ],
  "metadata": {
    "accelerator": "GPU",
    "colab": {
      "name": "Equilibrage.ipynb",
      "provenance": []
    },
    "interpreter": {
      "hash": "66ad2a0fc99eef4a3bf89b375e9b9756c86124817c17e26a015d4a0d647e591d"
    },
    "kernelspec": {
      "display_name": "Python 3.9.6 64-bit",
      "language": "python",
      "name": "python3"
    },
    "language_info": {
      "codemirror_mode": {
        "name": "ipython",
        "version": 3
      },
      "file_extension": ".py",
      "mimetype": "text/x-python",
      "name": "python",
      "nbconvert_exporter": "python",
      "pygments_lexer": "ipython3",
      "version": "3.9.6"
    },
    "orig_nbformat": 4
  },
  "nbformat": 4,
  "nbformat_minor": 0
}
