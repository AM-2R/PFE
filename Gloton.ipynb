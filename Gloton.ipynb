{
 "cells": [
  {
   "cell_type": "code",
   "execution_count": 181,
   "metadata": {},
   "outputs": [],
   "source": [
    "n=8\n",
    "Adj=dict()\n",
    "Adj=[[1,2,3,6],[0,4,5],[0,6],[0,6],[1,5,7],[1,4,7],[0,2,3,7],[4,5,6]]\n",
    "def Gloton(Adj):\n",
    "    n=len(Adj)\n",
    "    NC=dict()\n",
    "    C=[0 for k in range(n)]\n",
    "    for i in range(n):\n",
    "        NC[i]=[]\n",
    "    def  rajouter(k,NC):\n",
    "        if ((k in NC)==True):\n",
    "            return NC\n",
    "        else:\n",
    "            NC.append(k)\n",
    "            return NC\n",
    "    i=0\n",
    "    while i<=n-1:\n",
    "        exist=True\n",
    "        k=0\n",
    "        while (exist==True):\n",
    "            exist=k in NC[i]\n",
    "            if (exist==True):\n",
    "                k+=1\n",
    "        C[i]=k    \n",
    "        for j in range(len(Adj[i])):\n",
    "            voisin=Adj[i][j]\n",
    "            NC[voisin]=rajouter(k,NC[voisin])\n",
    "        i+=1\n",
    "    return C\n"
   ]
  },
  {
   "cell_type": "code",
   "execution_count": 182,
   "metadata": {},
   "outputs": [],
   "source": [
    "# C=Gloton(Adj)\n",
    "# print(C)\n",
    "# def freq(C):\n",
    "#     fc=[]\n",
    "#     i=0\n",
    "\n",
    "#     while (i in C):\n",
    "#         k=0\n",
    "#         for j in C:\n",
    "#             if j==i:\n",
    "#                 k+=1\n",
    "#         fc.append(k)\n",
    "#         i+=1\n",
    "#     return fc\n",
    "# def nequitable(fc):\n",
    "#     for i in fc:\n",
    "#         if not i+1>=max(fc):\n",
    "#             return True\n",
    "#     return False\n",
    "# def maxid(C,fc):\n",
    "#     M=[]\n",
    "#     maxid=[]\n",
    "#     for i in range(len(fc)):\n",
    "#         if fc[i]==max(fc):\n",
    "#             M=i\n",
    "#             break\n",
    "#     for i in range(len(C)):\n",
    "#         if C[i]==M:\n",
    "#             maxid.append(i)\n",
    "#     return maxid\n",
    "# def minid(C,fc):\n",
    "#     M=[]\n",
    "#     minid=[]\n",
    "#     for i in range(len(fc)):\n",
    "#         if fc[i]==min(fc):\n",
    "#             M=i\n",
    "#             break\n",
    "#     for i in range(len(C)):\n",
    "#         if C[i]==M:\n",
    "#             minid.append(i)\n",
    "#     return minid\n",
    "\n",
    "\n",
    "# fc=freq(C)\n",
    "# while(nequitable(fc)):\n",
    "#     maxlist=maxid(C,fc)\n",
    "#     minlist=minid(C,fc)\n",
    "#     for i in maxlist:\n",
    "#         for j in minlist:\n",
    "#             if not ( i in Adj[j] and j in Adj[i]):\n",
    "#                 C[i]=C[j]\n",
    "#                 break;\n",
    "#     if fc==freq(C):\n",
    "#         C[maxlist[0]]=max(C)+1\n",
    "#     fc=freq(C)\n",
    "#     break\n",
    "# print(C)\n",
    "            \n",
    "\n",
    "\n",
    "\n"
   ]
  },
  {
   "cell_type": "code",
   "execution_count": 183,
   "metadata": {},
   "outputs": [
    {
     "name": "stdout",
     "output_type": "stream",
     "text": [
      "le vecteur des couleurs ajacentes est [[1, 1, 1, 2], [0, 0, 2], [0, 2], [0, 2], [1, 2, 1], [1, 0, 1], [0, 1, 1, 1], [0, 2, 2]]\n",
      "les couleurs utilisées sont [0, 1, 2]\n"
     ]
    }
   ],
   "source": [
    "Adj\n",
    "C=Gloton(Adj)\n",
    "listco = []\n",
    "\n",
    "def co_adj(Adj,C):\n",
    "\n",
    "    global listco\n",
    "    for i in range(len(Adj)):\n",
    "        list=[]\n",
    "        for j in range (len(Adj[i])):\n",
    "            x=Adj[i][j]\n",
    "            list.append(C[x])\n",
    "        listco.append(list)\n",
    "    return(listco)\n",
    "print( \"le vecteur des couleurs ajacentes est\",co_adj(Adj,C))\n",
    "couleur=[]\n",
    "def Couleur(C):\n",
    "    global couleur\n",
    "    couleur=[]\n",
    "    for i in range(len(set(C))):\n",
    "        couleur.append(i)\n",
    "    return (couleur)\n",
    "print(\"les couleurs utilisées sont\",Couleur(C))"
   ]
  },
  {
   "cell_type": "code",
   "execution_count": 184,
   "metadata": {},
   "outputs": [
    {
     "name": "stdout",
     "output_type": "stream",
     "text": [
      "l'ocurance initiale de chaque couleur est [2, 4, 2]\n"
     ]
    }
   ],
   "source": [
    "freq=[]\n",
    "cmax=-1\n",
    "cmin=-1\n",
    "def Frequance ():\n",
    "    global couleur\n",
    "    global C\n",
    "    global freq\n",
    "    global cmax\n",
    "    global cmin\n",
    "    freq=[]\n",
    "    for i in range(len(couleur)):\n",
    "        x=0\n",
    "        for j in range(len(C)):\n",
    "            if C[j]==couleur[i]:\n",
    "                x+=1\n",
    "        freq.append(x)\n",
    "    cmax=freq.index(max(freq))\n",
    "    cmin=freq.index(min(freq))\n",
    "    return (freq)\n",
    "Frequance ()\n",
    "\n",
    "\n",
    "print(\"l'ocurance initiale de chaque couleur est\",freq)"
   ]
  },
  {
   "cell_type": "code",
   "execution_count": 188,
   "metadata": {},
   "outputs": [
    {
     "name": "stdout",
     "output_type": "stream",
     "text": [
      "le vecteur de coloration obtenue avec l'algorithme de jdk est [0, 3, 1, 1, 0, 2, 2, 1] le nombrede couleurs utilisees est 4 elles sont les suivantes {0, 1, 2, 3}\n"
     ]
    }
   ],
   "source": [
    "print(\"le vecteur de coloration obtenue avec l'algorithme de jdk est\",C,\"le nombrede couleurs utilisees est\",len(set(C)),\"elles sont les suivantes\",set(C))"
   ]
  }
 ],
 "metadata": {
  "interpreter": {
   "hash": "66ad2a0fc99eef4a3bf89b375e9b9756c86124817c17e26a015d4a0d647e591d"
  },
  "kernelspec": {
   "display_name": "Python 3.9.6 64-bit",
   "language": "python",
   "name": "python3"
  },
  "language_info": {
   "codemirror_mode": {
    "name": "ipython",
    "version": 3
   },
   "file_extension": ".py",
   "mimetype": "text/x-python",
   "name": "python",
   "nbconvert_exporter": "python",
   "pygments_lexer": "ipython3",
   "version": "3.9.6"
  },
  "orig_nbformat": 4
 },
 "nbformat": 4,
 "nbformat_minor": 2
}
